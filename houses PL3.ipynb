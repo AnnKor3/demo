{
 "cells": [
  {
   "cell_type": "code",
   "execution_count": 11,
   "id": "7b05eb65",
   "metadata": {},
   "outputs": [],
   "source": [
    "import numpy as np\n",
    "import pandas as pd\n",
    "import matplotlib.pyplot as plt\n",
    "import seaborn as sns"
   ]
  },
  {
   "cell_type": "code",
   "execution_count": 12,
   "id": "0b375624",
   "metadata": {},
   "outputs": [],
   "source": [
    "df = pd.read_csv('Houses.csv', encoding= \"ISO-8859-1\")"
   ]
  },
  {
   "cell_type": "code",
   "execution_count": 13,
   "id": "f0643815",
   "metadata": {},
   "outputs": [
    {
     "data": {
      "text/html": [
       "<div>\n",
       "<style scoped>\n",
       "    .dataframe tbody tr th:only-of-type {\n",
       "        vertical-align: middle;\n",
       "    }\n",
       "\n",
       "    .dataframe tbody tr th {\n",
       "        vertical-align: top;\n",
       "    }\n",
       "\n",
       "    .dataframe thead th {\n",
       "        text-align: right;\n",
       "    }\n",
       "</style>\n",
       "<table border=\"1\" class=\"dataframe\">\n",
       "  <thead>\n",
       "    <tr style=\"text-align: right;\">\n",
       "      <th></th>\n",
       "      <th>Unnamed: 0</th>\n",
       "      <th>address</th>\n",
       "      <th>city</th>\n",
       "      <th>floor</th>\n",
       "      <th>id</th>\n",
       "      <th>latitude</th>\n",
       "      <th>longitude</th>\n",
       "      <th>price</th>\n",
       "      <th>rooms</th>\n",
       "      <th>sq</th>\n",
       "      <th>year</th>\n",
       "    </tr>\n",
       "  </thead>\n",
       "  <tbody>\n",
       "    <tr>\n",
       "      <th>0</th>\n",
       "      <td>0</td>\n",
       "      <td>Podgórze Zab³ocie Stanis³awa Klimeckiego</td>\n",
       "      <td>Kraków</td>\n",
       "      <td>2.0</td>\n",
       "      <td>23918.0</td>\n",
       "      <td>50.049224</td>\n",
       "      <td>19.970379</td>\n",
       "      <td>749000.0</td>\n",
       "      <td>3.0</td>\n",
       "      <td>74.05</td>\n",
       "      <td>2021.0</td>\n",
       "    </tr>\n",
       "    <tr>\n",
       "      <th>1</th>\n",
       "      <td>1</td>\n",
       "      <td>Praga-Po³udnie Grochowska</td>\n",
       "      <td>Warszawa</td>\n",
       "      <td>3.0</td>\n",
       "      <td>17828.0</td>\n",
       "      <td>52.249775</td>\n",
       "      <td>21.106886</td>\n",
       "      <td>240548.0</td>\n",
       "      <td>1.0</td>\n",
       "      <td>24.38</td>\n",
       "      <td>2021.0</td>\n",
       "    </tr>\n",
       "    <tr>\n",
       "      <th>2</th>\n",
       "      <td>2</td>\n",
       "      <td>Krowodrza Czarnowiejska</td>\n",
       "      <td>Kraków</td>\n",
       "      <td>2.0</td>\n",
       "      <td>22784.0</td>\n",
       "      <td>50.066964</td>\n",
       "      <td>19.920025</td>\n",
       "      <td>427000.0</td>\n",
       "      <td>2.0</td>\n",
       "      <td>37.00</td>\n",
       "      <td>1970.0</td>\n",
       "    </tr>\n",
       "    <tr>\n",
       "      <th>3</th>\n",
       "      <td>3</td>\n",
       "      <td>Grunwald</td>\n",
       "      <td>Poznañ</td>\n",
       "      <td>2.0</td>\n",
       "      <td>4315.0</td>\n",
       "      <td>52.404212</td>\n",
       "      <td>16.882542</td>\n",
       "      <td>1290000.0</td>\n",
       "      <td>5.0</td>\n",
       "      <td>166.00</td>\n",
       "      <td>1935.0</td>\n",
       "    </tr>\n",
       "    <tr>\n",
       "      <th>4</th>\n",
       "      <td>4</td>\n",
       "      <td>Ochota Gotowy budynek. Stan deweloperski. Osta...</td>\n",
       "      <td>Warszawa</td>\n",
       "      <td>1.0</td>\n",
       "      <td>11770.0</td>\n",
       "      <td>52.212225</td>\n",
       "      <td>20.972630</td>\n",
       "      <td>996000.0</td>\n",
       "      <td>5.0</td>\n",
       "      <td>105.00</td>\n",
       "      <td>2020.0</td>\n",
       "    </tr>\n",
       "  </tbody>\n",
       "</table>\n",
       "</div>"
      ],
      "text/plain": [
       "   Unnamed: 0                                            address      city  \\\n",
       "0           0           Podgórze Zab³ocie Stanis³awa Klimeckiego    Kraków   \n",
       "1           1                          Praga-Po³udnie Grochowska  Warszawa   \n",
       "2           2                            Krowodrza Czarnowiejska    Kraków   \n",
       "3           3                                           Grunwald    Poznañ   \n",
       "4           4  Ochota Gotowy budynek. Stan deweloperski. Osta...  Warszawa   \n",
       "\n",
       "   floor       id   latitude  longitude      price  rooms      sq    year  \n",
       "0    2.0  23918.0  50.049224  19.970379   749000.0    3.0   74.05  2021.0  \n",
       "1    3.0  17828.0  52.249775  21.106886   240548.0    1.0   24.38  2021.0  \n",
       "2    2.0  22784.0  50.066964  19.920025   427000.0    2.0   37.00  1970.0  \n",
       "3    2.0   4315.0  52.404212  16.882542  1290000.0    5.0  166.00  1935.0  \n",
       "4    1.0  11770.0  52.212225  20.972630   996000.0    5.0  105.00  2020.0  "
      ]
     },
     "execution_count": 13,
     "metadata": {},
     "output_type": "execute_result"
    }
   ],
   "source": [
    "df.head()"
   ]
  },
  {
   "cell_type": "code",
   "execution_count": 14,
   "id": "622ed2d5",
   "metadata": {},
   "outputs": [],
   "source": [
    "df = df[['address', 'city', 'floor', 'price', 'rooms', 'sq', 'year']]"
   ]
  },
  {
   "cell_type": "code",
   "execution_count": 15,
   "id": "b167173d",
   "metadata": {},
   "outputs": [
    {
     "data": {
      "text/plain": [
       "array(['Krakow', 'Warszawa', 'Poznan'], dtype=object)"
      ]
     },
     "execution_count": 15,
     "metadata": {},
     "output_type": "execute_result"
    }
   ],
   "source": [
    "df['city'] = df['city'].map(lambda x: 'Poznan' if x=='Poznañ' else 'Krakow' if x=='Kraków' else x)\n",
    "df['city'].unique()"
   ]
  },
  {
   "cell_type": "code",
   "execution_count": 16,
   "id": "cbf5ca98",
   "metadata": {},
   "outputs": [],
   "source": [
    "df['full_address'] = df['city']+', '+df['address']"
   ]
  },
  {
   "cell_type": "code",
   "execution_count": 17,
   "id": "a0fda7d6",
   "metadata": {},
   "outputs": [
    {
     "data": {
      "text/html": [
       "<div>\n",
       "<style scoped>\n",
       "    .dataframe tbody tr th:only-of-type {\n",
       "        vertical-align: middle;\n",
       "    }\n",
       "\n",
       "    .dataframe tbody tr th {\n",
       "        vertical-align: top;\n",
       "    }\n",
       "\n",
       "    .dataframe thead th {\n",
       "        text-align: right;\n",
       "    }\n",
       "</style>\n",
       "<table border=\"1\" class=\"dataframe\">\n",
       "  <thead>\n",
       "    <tr style=\"text-align: right;\">\n",
       "      <th></th>\n",
       "      <th>address</th>\n",
       "      <th>city</th>\n",
       "      <th>floor</th>\n",
       "      <th>price</th>\n",
       "      <th>rooms</th>\n",
       "      <th>sq</th>\n",
       "      <th>year</th>\n",
       "      <th>full_address</th>\n",
       "    </tr>\n",
       "  </thead>\n",
       "  <tbody>\n",
       "    <tr>\n",
       "      <th>0</th>\n",
       "      <td>Podgórze Zab³ocie Stanis³awa Klimeckiego</td>\n",
       "      <td>Krakow</td>\n",
       "      <td>2.0</td>\n",
       "      <td>749000.0</td>\n",
       "      <td>3.0</td>\n",
       "      <td>74.05</td>\n",
       "      <td>2021.0</td>\n",
       "      <td>Krakow, Podgórze Zab³ocie Stanis³awa Klimeckiego</td>\n",
       "    </tr>\n",
       "    <tr>\n",
       "      <th>1</th>\n",
       "      <td>Praga-Po³udnie Grochowska</td>\n",
       "      <td>Warszawa</td>\n",
       "      <td>3.0</td>\n",
       "      <td>240548.0</td>\n",
       "      <td>1.0</td>\n",
       "      <td>24.38</td>\n",
       "      <td>2021.0</td>\n",
       "      <td>Warszawa, Praga-Po³udnie Grochowska</td>\n",
       "    </tr>\n",
       "    <tr>\n",
       "      <th>2</th>\n",
       "      <td>Krowodrza Czarnowiejska</td>\n",
       "      <td>Krakow</td>\n",
       "      <td>2.0</td>\n",
       "      <td>427000.0</td>\n",
       "      <td>2.0</td>\n",
       "      <td>37.00</td>\n",
       "      <td>1970.0</td>\n",
       "      <td>Krakow, Krowodrza Czarnowiejska</td>\n",
       "    </tr>\n",
       "    <tr>\n",
       "      <th>3</th>\n",
       "      <td>Grunwald</td>\n",
       "      <td>Poznan</td>\n",
       "      <td>2.0</td>\n",
       "      <td>1290000.0</td>\n",
       "      <td>5.0</td>\n",
       "      <td>166.00</td>\n",
       "      <td>1935.0</td>\n",
       "      <td>Poznan, Grunwald</td>\n",
       "    </tr>\n",
       "    <tr>\n",
       "      <th>4</th>\n",
       "      <td>Ochota Gotowy budynek. Stan deweloperski. Osta...</td>\n",
       "      <td>Warszawa</td>\n",
       "      <td>1.0</td>\n",
       "      <td>996000.0</td>\n",
       "      <td>5.0</td>\n",
       "      <td>105.00</td>\n",
       "      <td>2020.0</td>\n",
       "      <td>Warszawa, Ochota Gotowy budynek. Stan dewelope...</td>\n",
       "    </tr>\n",
       "  </tbody>\n",
       "</table>\n",
       "</div>"
      ],
      "text/plain": [
       "                                             address      city  floor  \\\n",
       "0           Podgórze Zab³ocie Stanis³awa Klimeckiego    Krakow    2.0   \n",
       "1                          Praga-Po³udnie Grochowska  Warszawa    3.0   \n",
       "2                            Krowodrza Czarnowiejska    Krakow    2.0   \n",
       "3                                           Grunwald    Poznan    2.0   \n",
       "4  Ochota Gotowy budynek. Stan deweloperski. Osta...  Warszawa    1.0   \n",
       "\n",
       "       price  rooms      sq    year  \\\n",
       "0   749000.0    3.0   74.05  2021.0   \n",
       "1   240548.0    1.0   24.38  2021.0   \n",
       "2   427000.0    2.0   37.00  1970.0   \n",
       "3  1290000.0    5.0  166.00  1935.0   \n",
       "4   996000.0    5.0  105.00  2020.0   \n",
       "\n",
       "                                        full_address  \n",
       "0   Krakow, Podgórze Zab³ocie Stanis³awa Klimeckiego  \n",
       "1                Warszawa, Praga-Po³udnie Grochowska  \n",
       "2                    Krakow, Krowodrza Czarnowiejska  \n",
       "3                                   Poznan, Grunwald  \n",
       "4  Warszawa, Ochota Gotowy budynek. Stan dewelope...  "
      ]
     },
     "execution_count": 17,
     "metadata": {},
     "output_type": "execute_result"
    }
   ],
   "source": [
    "df.head()"
   ]
  },
  {
   "cell_type": "code",
   "execution_count": 18,
   "id": "1909d962",
   "metadata": {},
   "outputs": [],
   "source": [
    "y = df['price']"
   ]
  },
  {
   "cell_type": "code",
   "execution_count": 19,
   "id": "bc90caff",
   "metadata": {
    "scrolled": true
   },
   "outputs": [
    {
     "data": {
      "text/html": [
       "<div>\n",
       "<style scoped>\n",
       "    .dataframe tbody tr th:only-of-type {\n",
       "        vertical-align: middle;\n",
       "    }\n",
       "\n",
       "    .dataframe tbody tr th {\n",
       "        vertical-align: top;\n",
       "    }\n",
       "\n",
       "    .dataframe thead th {\n",
       "        text-align: right;\n",
       "    }\n",
       "</style>\n",
       "<table border=\"1\" class=\"dataframe\">\n",
       "  <thead>\n",
       "    <tr style=\"text-align: right;\">\n",
       "      <th></th>\n",
       "      <th>city</th>\n",
       "      <th>floor</th>\n",
       "      <th>rooms</th>\n",
       "      <th>sq</th>\n",
       "      <th>year</th>\n",
       "    </tr>\n",
       "  </thead>\n",
       "  <tbody>\n",
       "    <tr>\n",
       "      <th>0</th>\n",
       "      <td>Krakow</td>\n",
       "      <td>2.0</td>\n",
       "      <td>3.0</td>\n",
       "      <td>74.05</td>\n",
       "      <td>2021.0</td>\n",
       "    </tr>\n",
       "    <tr>\n",
       "      <th>1</th>\n",
       "      <td>Warszawa</td>\n",
       "      <td>3.0</td>\n",
       "      <td>1.0</td>\n",
       "      <td>24.38</td>\n",
       "      <td>2021.0</td>\n",
       "    </tr>\n",
       "    <tr>\n",
       "      <th>2</th>\n",
       "      <td>Krakow</td>\n",
       "      <td>2.0</td>\n",
       "      <td>2.0</td>\n",
       "      <td>37.00</td>\n",
       "      <td>1970.0</td>\n",
       "    </tr>\n",
       "    <tr>\n",
       "      <th>3</th>\n",
       "      <td>Poznan</td>\n",
       "      <td>2.0</td>\n",
       "      <td>5.0</td>\n",
       "      <td>166.00</td>\n",
       "      <td>1935.0</td>\n",
       "    </tr>\n",
       "    <tr>\n",
       "      <th>4</th>\n",
       "      <td>Warszawa</td>\n",
       "      <td>1.0</td>\n",
       "      <td>5.0</td>\n",
       "      <td>105.00</td>\n",
       "      <td>2020.0</td>\n",
       "    </tr>\n",
       "  </tbody>\n",
       "</table>\n",
       "</div>"
      ],
      "text/plain": [
       "       city  floor  rooms      sq    year\n",
       "0    Krakow    2.0    3.0   74.05  2021.0\n",
       "1  Warszawa    3.0    1.0   24.38  2021.0\n",
       "2    Krakow    2.0    2.0   37.00  1970.0\n",
       "3    Poznan    2.0    5.0  166.00  1935.0\n",
       "4  Warszawa    1.0    5.0  105.00  2020.0"
      ]
     },
     "execution_count": 19,
     "metadata": {},
     "output_type": "execute_result"
    }
   ],
   "source": [
    "X = df.drop(['address','price','full_address'],axis=1)\n",
    "X.head()"
   ]
  },
  {
   "cell_type": "code",
   "execution_count": 20,
   "id": "bde0ba79",
   "metadata": {
    "scrolled": true
   },
   "outputs": [
    {
     "name": "stdout",
     "output_type": "stream",
     "text": [
      "<class 'pandas.core.frame.DataFrame'>\n",
      "RangeIndex: 23764 entries, 0 to 23763\n",
      "Data columns (total 8 columns):\n",
      " #   Column        Non-Null Count  Dtype  \n",
      "---  ------        --------------  -----  \n",
      " 0   address       23764 non-null  object \n",
      " 1   city          23764 non-null  object \n",
      " 2   floor         23764 non-null  float64\n",
      " 3   price         23764 non-null  float64\n",
      " 4   rooms         23764 non-null  float64\n",
      " 5   sq            23764 non-null  float64\n",
      " 6   year          23764 non-null  float64\n",
      " 7   full_address  23764 non-null  object \n",
      "dtypes: float64(5), object(3)\n",
      "memory usage: 1.5+ MB\n"
     ]
    }
   ],
   "source": [
    "df.info()"
   ]
  },
  {
   "cell_type": "code",
   "execution_count": 21,
   "id": "ef8e1698",
   "metadata": {
    "scrolled": true
   },
   "outputs": [
    {
     "data": {
      "text/plain": [
       "address         0\n",
       "city            0\n",
       "floor           0\n",
       "price           0\n",
       "rooms           0\n",
       "sq              0\n",
       "year            0\n",
       "full_address    0\n",
       "dtype: int64"
      ]
     },
     "execution_count": 21,
     "metadata": {},
     "output_type": "execute_result"
    }
   ],
   "source": [
    "df.isnull().sum()"
   ]
  },
  {
   "cell_type": "code",
   "execution_count": 22,
   "id": "498c68b7",
   "metadata": {},
   "outputs": [],
   "source": [
    "%matplotlib inline"
   ]
  },
  {
   "cell_type": "code",
   "execution_count": 28,
   "id": "cac94e13",
   "metadata": {},
   "outputs": [],
   "source": [
    "# remove Scientific Notation\n",
    "pd.set_option('display.float_format', lambda x: '%.2f' % x)"
   ]
  },
  {
   "cell_type": "markdown",
   "id": "613c2b72",
   "metadata": {},
   "source": [
    "# Exploratory Data Analysis and Visualization"
   ]
  },
  {
   "cell_type": "code",
   "execution_count": 46,
   "id": "6022eab6",
   "metadata": {},
   "outputs": [
    {
     "data": {
      "text/plain": [
       "Text(0.5, 1.0, 'Heatmap with outliers')"
      ]
     },
     "execution_count": 46,
     "metadata": {},
     "output_type": "execute_result"
    },
    {
     "data": {
      "image/png": "[encoded data removed]",
      "text/plain": [
       "<Figure size 1200x800 with 2 Axes>"
      ]
     },
     "metadata": {},
     "output_type": "display_data"
    }
   ],
   "source": [
    "plt.figure(figsize=(12,8))\n",
    "sns.heatmap(df.corr(),annot=True,cmap='twilight_shifted')\n",
    "plt.title('Heatmap with outliers')"
   ]
  },
  {
   "cell_type": "code",
   "execution_count": 32,
   "id": "3b870b7a-8e7f-4ff6-8ee3-8999aedebbb0",
   "metadata": {},
   "outputs": [
    {
     "data": {
      "text/html": [
       "<div>\n",
       "<style scoped>\n",
       "    .dataframe tbody tr th:only-of-type {\n",
       "        vertical-align: middle;\n",
       "    }\n",
       "\n",
       "    .dataframe tbody tr th {\n",
       "        vertical-align: top;\n",
       "    }\n",
       "\n",
       "    .dataframe thead th {\n",
       "        text-align: right;\n",
       "    }\n",
       "</style>\n",
       "<table border=\"1\" class=\"dataframe\">\n",
       "  <thead>\n",
       "    <tr style=\"text-align: right;\">\n",
       "      <th></th>\n",
       "      <th>floor</th>\n",
       "      <th>price</th>\n",
       "      <th>rooms</th>\n",
       "      <th>sq</th>\n",
       "      <th>year</th>\n",
       "    </tr>\n",
       "  </thead>\n",
       "  <tbody>\n",
       "    <tr>\n",
       "      <th>count</th>\n",
       "      <td>23764.00</td>\n",
       "      <td>23764.00</td>\n",
       "      <td>23764.00</td>\n",
       "      <td>23764.00</td>\n",
       "      <td>23764.00</td>\n",
       "    </tr>\n",
       "    <tr>\n",
       "      <th>mean</th>\n",
       "      <td>2.81</td>\n",
       "      <td>649353.65</td>\n",
       "      <td>2.62</td>\n",
       "      <td>102.72</td>\n",
       "      <td>2000.55</td>\n",
       "    </tr>\n",
       "    <tr>\n",
       "      <th>std</th>\n",
       "      <td>2.46</td>\n",
       "      <td>532696.99</td>\n",
       "      <td>1.00</td>\n",
       "      <td>6533.69</td>\n",
       "      <td>48.31</td>\n",
       "    </tr>\n",
       "    <tr>\n",
       "      <th>min</th>\n",
       "      <td>0.00</td>\n",
       "      <td>5000.00</td>\n",
       "      <td>1.00</td>\n",
       "      <td>8.80</td>\n",
       "      <td>70.00</td>\n",
       "    </tr>\n",
       "    <tr>\n",
       "      <th>25%</th>\n",
       "      <td>1.00</td>\n",
       "      <td>411546.12</td>\n",
       "      <td>2.00</td>\n",
       "      <td>42.00</td>\n",
       "      <td>1985.00</td>\n",
       "    </tr>\n",
       "    <tr>\n",
       "      <th>50%</th>\n",
       "      <td>2.00</td>\n",
       "      <td>520000.00</td>\n",
       "      <td>3.00</td>\n",
       "      <td>53.89</td>\n",
       "      <td>2019.00</td>\n",
       "    </tr>\n",
       "    <tr>\n",
       "      <th>75%</th>\n",
       "      <td>4.00</td>\n",
       "      <td>699999.00</td>\n",
       "      <td>3.00</td>\n",
       "      <td>68.91</td>\n",
       "      <td>2021.00</td>\n",
       "    </tr>\n",
       "    <tr>\n",
       "      <th>max</th>\n",
       "      <td>10.00</td>\n",
       "      <td>15000000.00</td>\n",
       "      <td>10.00</td>\n",
       "      <td>1007185.00</td>\n",
       "      <td>2980.00</td>\n",
       "    </tr>\n",
       "  </tbody>\n",
       "</table>\n",
       "</div>"
      ],
      "text/plain": [
       "         floor       price    rooms         sq     year\n",
       "count 23764.00    23764.00 23764.00   23764.00 23764.00\n",
       "mean      2.81   649353.65     2.62     102.72  2000.55\n",
       "std       2.46   532696.99     1.00    6533.69    48.31\n",
       "min       0.00     5000.00     1.00       8.80    70.00\n",
       "25%       1.00   411546.12     2.00      42.00  1985.00\n",
       "50%       2.00   520000.00     3.00      53.89  2019.00\n",
       "75%       4.00   699999.00     3.00      68.91  2021.00\n",
       "max      10.00 15000000.00    10.00 1007185.00  2980.00"
      ]
     },
     "execution_count": 32,
     "metadata": {},
     "output_type": "execute_result"
    }
   ],
   "source": [
    "df.describe()"
   ]
  },
  {
   "cell_type": "code",
   "execution_count": 48,
   "id": "3b9f0dc0",
   "metadata": {},
   "outputs": [
    {
     "name": "stderr",
     "output_type": "stream",
     "text": [
      "C:\\Users\\annam\\AppData\\Local\\Temp\\ipykernel_7016\\1479338021.py:2: UserWarning: Boolean Series key will be reindexed to match DataFrame index.\n",
      "  df01 = df01[df['sq']<=8000]\n"
     ]
    },
    {
     "data": {
      "image/png": "[encoded data removed]",
      "text/plain": [
       "<Figure size 1200x800 with 2 Axes>"
      ]
     },
     "metadata": {},
     "output_type": "display_data"
    }
   ],
   "source": [
    "df01 = df[(df['year']<=2025) & (df['year']>=1985)]\n",
    "df01 = df01[df['sq']<=8000]\n",
    "plt.figure(figsize=(12,8))\n",
    "# twilight_shifted, Pastel2, PuOr, coolwarm\n",
    "sns.heatmap(df01.corr(), annot=True, cmap='twilight_shifted')\n",
    "plt.title('Heatmap WITHOUT outliers')\n",
    "plt.show()"
   ]
  },
  {
   "cell_type": "code",
   "execution_count": 40,
   "id": "e34cb65d",
   "metadata": {},
   "outputs": [
    {
     "data": {
      "image/png": "[encoded data removed]",
      "text/plain": [
       "<Figure size 1600x800 with 1 Axes>"
      ]
     },
     "metadata": {},
     "output_type": "display_data"
    }
   ],
   "source": [
    "plt.figure(figsize=(16,8))\n",
    "# get rid of scientific notation\n",
    "plt.ticklabel_format(style='plain', axis='y')\n",
    "plt.ticklabel_format(style='plain', axis='x')\n",
    "ax = sns.barplot(data=df,x='city',y='price',hue='rooms')\n",
    "for container in ax.containers:\n",
    "    ax.bar_label(container)"
   ]
  },
  {
   "cell_type": "code",
   "execution_count": 46,
   "id": "34f27a72",
   "metadata": {},
   "outputs": [
    {
     "data": {
      "text/plain": [
       "<AxesSubplot:xlabel='rooms', ylabel='price'>"
      ]
     },
     "execution_count": 46,
     "metadata": {},
     "output_type": "execute_result"
    },
    {
     "data": {
      "image/png": "[encoded data removed]",
      "text/plain": [
       "<Figure size 1500x800 with 1 Axes>"
      ]
     },
     "metadata": {},
     "output_type": "display_data"
    }
   ],
   "source": [
    "plt.figure(figsize=(15,8))\n",
    "sns.boxplot(data=df,x='rooms',y='price',hue='city')"
   ]
  },
  {
   "cell_type": "code",
   "execution_count": 47,
   "id": "3636aac0",
   "metadata": {},
   "outputs": [
    {
     "name": "stderr",
     "output_type": "stream",
     "text": [
      "C:\\Users\\annam\\anaconda3\\lib\\site-packages\\seaborn\\distributions.py:385: UserWarning: `bins` cannot be 'auto' when using weights. Setting `bins=10`, but you will likely want to adjust.\n",
      "  warnings.warn(msg, UserWarning)\n"
     ]
    },
    {
     "data": {
      "image/png": "[encoded data removed]",
      "text/plain": [
       "<Figure size 1500x800 with 1 Axes>"
      ]
     },
     "metadata": {},
     "output_type": "display_data"
    }
   ],
   "source": [
    "plt.figure(figsize=(15,8))\n",
    "ax = sns.histplot(data=df,x='rooms',hue='city',multiple=\"stack\",weights='rooms',stat='percent')\n",
    "for container in ax.containers:\n",
    "    ax.bar_label(container,fmt='%.1f')"
   ]
  },
  {
   "cell_type": "code",
   "execution_count": 49,
   "id": "11d34b84",
   "metadata": {},
   "outputs": [
    {
     "name": "stderr",
     "output_type": "stream",
     "text": [
      "C:\\Users\\annam\\anaconda3\\lib\\site-packages\\seaborn\\distributions.py:385: UserWarning: `bins` cannot be 'auto' when using weights. Setting `bins=10`, but you will likely want to adjust.\n",
      "  warnings.warn(msg, UserWarning)\n"
     ]
    },
    {
     "data": {
      "image/png": "[encoded data removed]",
      "text/plain": [
       "<Figure size 1500x800 with 1 Axes>"
      ]
     },
     "metadata": {},
     "output_type": "display_data"
    }
   ],
   "source": [
    "plt.figure(figsize=(15,8))\n",
    "ax = sns.histplot(data=df,x='floor',hue='city',multiple=\"stack\",weights='floor',stat='percent')\n",
    "for container in ax.containers:\n",
    "    ax.bar_label(container,fmt='%.1f')"
   ]
  },
  {
   "cell_type": "markdown",
   "id": "dc6980ea",
   "metadata": {},
   "source": [
    "## Preparation"
   ]
  },
  {
   "cell_type": "code",
   "execution_count": 65,
   "id": "04167fbf",
   "metadata": {},
   "outputs": [],
   "source": [
    "from sklearn.linear_model import LinearRegression\n",
    "from sklearn.linear_model import Lasso, Ridge\n",
    "from sklearn.linear_model import ElasticNet\n",
    "from sklearn.tree import DecisionTreeRegressor\n",
    "from sklearn.neighbors import KNeighborsRegressor\n",
    "from sklearn.svm import SVR\n",
    "from sklearn.ensemble import RandomForestRegressor\n",
    "from sklearn.ensemble import GradientBoostingRegressor\n",
    "from sklearn.ensemble import AdaBoostRegressor\n",
    "\n",
    "from sklearn.model_selection import train_test_split\n",
    "from sklearn.model_selection import KFold\n",
    "from sklearn.model_selection import cross_val_score\n",
    "from sklearn.model_selection import GridSearchCV\n",
    "from sklearn.pipeline import Pipeline\n",
    "from sklearn.metrics import mean_squared_error, classification_report, accuracy_score\n",
    "import xgboost as xgb"
   ]
  },
  {
   "cell_type": "code",
   "execution_count": 55,
   "id": "da3d9320",
   "metadata": {},
   "outputs": [],
   "source": [
    "models = []\n",
    "models.append(('LR', LinearRegression()))\n",
    "models.append(('LASSO', Lasso()))\n",
    "models.append(('EN', ElasticNet()))\n",
    "models.append(('KNN', KNeighborsRegressor()))\n",
    "models.append(('CART', DecisionTreeRegressor()))\n",
    "models.append(('SVR', SVR()))\n",
    "\n",
    "# Bagging\n",
    "models.append(('RFR', RandomForestRegressor()))\n",
    "\n",
    "# Boosting \n",
    "models.append(('ABR', AdaBoostRegressor()))\n",
    "models.append(('GBR', GradientBoostingRegressor()))\n",
    "models.append(('XGB', xgb.XGBRegressor()))\n"
   ]
  },
  {
   "cell_type": "code",
   "execution_count": 56,
   "id": "7b34d4f3",
   "metadata": {},
   "outputs": [],
   "source": [
    "num_folds = 10\n",
    "scoring = 'neg_mean_squared_error'"
   ]
  },
  {
   "cell_type": "code",
   "execution_count": 57,
   "id": "64a5f038",
   "metadata": {
    "scrolled": true
   },
   "outputs": [
    {
     "data": {
      "text/html": [
       "<div>\n",
       "<style scoped>\n",
       "    .dataframe tbody tr th:only-of-type {\n",
       "        vertical-align: middle;\n",
       "    }\n",
       "\n",
       "    .dataframe tbody tr th {\n",
       "        vertical-align: top;\n",
       "    }\n",
       "\n",
       "    .dataframe thead th {\n",
       "        text-align: right;\n",
       "    }\n",
       "</style>\n",
       "<table border=\"1\" class=\"dataframe\">\n",
       "  <thead>\n",
       "    <tr style=\"text-align: right;\">\n",
       "      <th></th>\n",
       "      <th>city</th>\n",
       "      <th>floor</th>\n",
       "      <th>rooms</th>\n",
       "      <th>sq</th>\n",
       "      <th>year</th>\n",
       "    </tr>\n",
       "  </thead>\n",
       "  <tbody>\n",
       "    <tr>\n",
       "      <th>0</th>\n",
       "      <td>Krakow</td>\n",
       "      <td>2.00</td>\n",
       "      <td>3.00</td>\n",
       "      <td>74.05</td>\n",
       "      <td>2021.00</td>\n",
       "    </tr>\n",
       "    <tr>\n",
       "      <th>1</th>\n",
       "      <td>Warszawa</td>\n",
       "      <td>3.00</td>\n",
       "      <td>1.00</td>\n",
       "      <td>24.38</td>\n",
       "      <td>2021.00</td>\n",
       "    </tr>\n",
       "    <tr>\n",
       "      <th>2</th>\n",
       "      <td>Krakow</td>\n",
       "      <td>2.00</td>\n",
       "      <td>2.00</td>\n",
       "      <td>37.00</td>\n",
       "      <td>1970.00</td>\n",
       "    </tr>\n",
       "    <tr>\n",
       "      <th>3</th>\n",
       "      <td>Poznan</td>\n",
       "      <td>2.00</td>\n",
       "      <td>5.00</td>\n",
       "      <td>166.00</td>\n",
       "      <td>1935.00</td>\n",
       "    </tr>\n",
       "    <tr>\n",
       "      <th>4</th>\n",
       "      <td>Warszawa</td>\n",
       "      <td>1.00</td>\n",
       "      <td>5.00</td>\n",
       "      <td>105.00</td>\n",
       "      <td>2020.00</td>\n",
       "    </tr>\n",
       "  </tbody>\n",
       "</table>\n",
       "</div>"
      ],
      "text/plain": [
       "       city  floor  rooms     sq    year\n",
       "0    Krakow   2.00   3.00  74.05 2021.00\n",
       "1  Warszawa   3.00   1.00  24.38 2021.00\n",
       "2    Krakow   2.00   2.00  37.00 1970.00\n",
       "3    Poznan   2.00   5.00 166.00 1935.00\n",
       "4  Warszawa   1.00   5.00 105.00 2020.00"
      ]
     },
     "execution_count": 57,
     "metadata": {},
     "output_type": "execute_result"
    }
   ],
   "source": [
    "X.head()"
   ]
  },
  {
   "cell_type": "code",
   "execution_count": 58,
   "id": "219c2c76",
   "metadata": {
    "scrolled": true
   },
   "outputs": [
    {
     "data": {
      "text/html": [
       "<div>\n",
       "<style scoped>\n",
       "    .dataframe tbody tr th:only-of-type {\n",
       "        vertical-align: middle;\n",
       "    }\n",
       "\n",
       "    .dataframe tbody tr th {\n",
       "        vertical-align: top;\n",
       "    }\n",
       "\n",
       "    .dataframe thead th {\n",
       "        text-align: right;\n",
       "    }\n",
       "</style>\n",
       "<table border=\"1\" class=\"dataframe\">\n",
       "  <thead>\n",
       "    <tr style=\"text-align: right;\">\n",
       "      <th></th>\n",
       "      <th>floor</th>\n",
       "      <th>rooms</th>\n",
       "      <th>sq</th>\n",
       "      <th>year</th>\n",
       "      <th>city_Krakow</th>\n",
       "      <th>city_Poznan</th>\n",
       "      <th>city_Warszawa</th>\n",
       "    </tr>\n",
       "  </thead>\n",
       "  <tbody>\n",
       "    <tr>\n",
       "      <th>0</th>\n",
       "      <td>2.00</td>\n",
       "      <td>3.00</td>\n",
       "      <td>74.05</td>\n",
       "      <td>2021.00</td>\n",
       "      <td>1</td>\n",
       "      <td>0</td>\n",
       "      <td>0</td>\n",
       "    </tr>\n",
       "    <tr>\n",
       "      <th>1</th>\n",
       "      <td>3.00</td>\n",
       "      <td>1.00</td>\n",
       "      <td>24.38</td>\n",
       "      <td>2021.00</td>\n",
       "      <td>0</td>\n",
       "      <td>0</td>\n",
       "      <td>1</td>\n",
       "    </tr>\n",
       "    <tr>\n",
       "      <th>2</th>\n",
       "      <td>2.00</td>\n",
       "      <td>2.00</td>\n",
       "      <td>37.00</td>\n",
       "      <td>1970.00</td>\n",
       "      <td>1</td>\n",
       "      <td>0</td>\n",
       "      <td>0</td>\n",
       "    </tr>\n",
       "    <tr>\n",
       "      <th>3</th>\n",
       "      <td>2.00</td>\n",
       "      <td>5.00</td>\n",
       "      <td>166.00</td>\n",
       "      <td>1935.00</td>\n",
       "      <td>0</td>\n",
       "      <td>1</td>\n",
       "      <td>0</td>\n",
       "    </tr>\n",
       "    <tr>\n",
       "      <th>4</th>\n",
       "      <td>1.00</td>\n",
       "      <td>5.00</td>\n",
       "      <td>105.00</td>\n",
       "      <td>2020.00</td>\n",
       "      <td>0</td>\n",
       "      <td>0</td>\n",
       "      <td>1</td>\n",
       "    </tr>\n",
       "  </tbody>\n",
       "</table>\n",
       "</div>"
      ],
      "text/plain": [
       "   floor  rooms     sq    year  city_Krakow  city_Poznan  city_Warszawa\n",
       "0   2.00   3.00  74.05 2021.00            1            0              0\n",
       "1   3.00   1.00  24.38 2021.00            0            0              1\n",
       "2   2.00   2.00  37.00 1970.00            1            0              0\n",
       "3   2.00   5.00 166.00 1935.00            0            1              0\n",
       "4   1.00   5.00 105.00 2020.00            0            0              1"
      ]
     },
     "execution_count": 58,
     "metadata": {},
     "output_type": "execute_result"
    }
   ],
   "source": [
    "X = pd.get_dummies(X)\n",
    "X.head()"
   ]
  },
  {
   "cell_type": "markdown",
   "id": "0ca3537c",
   "metadata": {},
   "source": [
    "### Multicollinearity\n",
    "Variance inflation factor"
   ]
  },
  {
   "cell_type": "code",
   "execution_count": 59,
   "id": "d477510c",
   "metadata": {},
   "outputs": [],
   "source": [
    "from statsmodels.stats.outliers_influence import variance_inflation_factor"
   ]
  },
  {
   "cell_type": "code",
   "execution_count": 66,
   "id": "800c3c13",
   "metadata": {},
   "outputs": [
    {
     "data": {
      "text/html": [
       "<div>\n",
       "<style scoped>\n",
       "    .dataframe tbody tr th:only-of-type {\n",
       "        vertical-align: middle;\n",
       "    }\n",
       "\n",
       "    .dataframe tbody tr th {\n",
       "        vertical-align: top;\n",
       "    }\n",
       "\n",
       "    .dataframe thead th {\n",
       "        text-align: right;\n",
       "    }\n",
       "</style>\n",
       "<table border=\"1\" class=\"dataframe\">\n",
       "  <thead>\n",
       "    <tr style=\"text-align: right;\">\n",
       "      <th></th>\n",
       "      <th>VIF</th>\n",
       "      <th>variable</th>\n",
       "    </tr>\n",
       "  </thead>\n",
       "  <tbody>\n",
       "    <tr>\n",
       "      <th>0</th>\n",
       "      <td>1.03</td>\n",
       "      <td>floor</td>\n",
       "    </tr>\n",
       "    <tr>\n",
       "      <th>1</th>\n",
       "      <td>1.00</td>\n",
       "      <td>rooms</td>\n",
       "    </tr>\n",
       "    <tr>\n",
       "      <th>2</th>\n",
       "      <td>1.00</td>\n",
       "      <td>sq</td>\n",
       "    </tr>\n",
       "    <tr>\n",
       "      <th>3</th>\n",
       "      <td>1.01</td>\n",
       "      <td>year</td>\n",
       "    </tr>\n",
       "    <tr>\n",
       "      <th>4</th>\n",
       "      <td>712.93</td>\n",
       "      <td>city_Krakow</td>\n",
       "    </tr>\n",
       "    <tr>\n",
       "      <th>5</th>\n",
       "      <td>303.51</td>\n",
       "      <td>city_Poznan</td>\n",
       "    </tr>\n",
       "    <tr>\n",
       "      <th>6</th>\n",
       "      <td>714.14</td>\n",
       "      <td>city_Warszawa</td>\n",
       "    </tr>\n",
       "  </tbody>\n",
       "</table>\n",
       "</div>"
      ],
      "text/plain": [
       "     VIF       variable\n",
       "0   1.03          floor\n",
       "1   1.00          rooms\n",
       "2   1.00             sq\n",
       "3   1.01           year\n",
       "4 712.93    city_Krakow\n",
       "5 303.51    city_Poznan\n",
       "6 714.14  city_Warszawa"
      ]
     },
     "execution_count": 66,
     "metadata": {},
     "output_type": "execute_result"
    }
   ],
   "source": [
    "vif = pd.DataFrame()\n",
    "\n",
    "vif['VIF'] = [variance_inflation_factor(X.values, i) for i in range(X1.shape[1])]\n",
    "vif['variable'] = X1.columns\n",
    "vif"
   ]
  },
  {
   "cell_type": "markdown",
   "id": "b2ba36d1-173d-4a36-843a-4c01859cffe2",
   "metadata": {},
   "source": [
    "#### Data Spliting and Feature scaling"
   ]
  },
  {
   "cell_type": "code",
   "execution_count": 50,
   "id": "d107b0b8-d21f-4cdf-b666-dfe28e5c9339",
   "metadata": {},
   "outputs": [],
   "source": [
    "from sklearn.model_selection import train_test_split"
   ]
  },
  {
   "cell_type": "code",
   "execution_count": 59,
   "id": "76e89e95",
   "metadata": {},
   "outputs": [],
   "source": [
    "X_train, X_test, y_train, y_test = train_test_split(X, y, test_size=0.3, random_state=42)"
   ]
  },
  {
   "cell_type": "code",
   "execution_count": 60,
   "id": "543d1765",
   "metadata": {},
   "outputs": [],
   "source": [
    "from sklearn.preprocessing import StandardScaler"
   ]
  },
  {
   "cell_type": "code",
   "execution_count": 61,
   "id": "1b0140fc",
   "metadata": {},
   "outputs": [],
   "source": [
    "scaler = StandardScaler()\n",
    "X_train = scaler.fit_transform(X_train)\n",
    "X_test = scaler.transform(X_test)"
   ]
  },
  {
   "cell_type": "markdown",
   "id": "ec1935c7",
   "metadata": {},
   "source": [
    "## Cross validation\n",
    "Mean Accuracy & Standard Deviation"
   ]
  },
  {
   "cell_type": "code",
   "execution_count": 62,
   "id": "c7e7e04a",
   "metadata": {},
   "outputs": [],
   "source": [
    "names = []\n",
    "kfold_results = []\n",
    "test_results = []\n",
    "train_results = []\n",
    "rm = pd.DataFrame(columns=['idx','name','res'])\n",
    "i = 0\n",
    "for name, model in models:\n",
    "    names.append(name)\n",
    "    #converted mean squared error to positive. The lower the better\n",
    "    cv_results = -1* cross_val_score(model, X_train, y_train, cv=10, scoring=scoring)\n",
    "    \n",
    "    # for boxplot - list of arrays - the number of arrays is equal to the number of models\n",
    "    # each array contains 10 measures corresponding to each cv fold's results\n",
    "    kfold_results.append(cv_results)\n",
    "    \n",
    "    # dataframe - to show results in the table\n",
    "    rm = pd.concat([rm, pd.DataFrame({'idx':[i], 'name':[name],'res': [np.median(cv_results)]})],ignore_index=True)\n",
    "    i = i + 1\n",
    "\n"
   ]
  },
  {
   "cell_type": "code",
   "execution_count": 64,
   "id": "b2578b6d",
   "metadata": {},
   "outputs": [
    {
     "name": "stdout",
     "output_type": "stream",
     "text": [
      "res -> the lower the better\n"
     ]
    },
    {
     "data": {
      "text/html": [
       "<div>\n",
       "<style scoped>\n",
       "    .dataframe tbody tr th:only-of-type {\n",
       "        vertical-align: middle;\n",
       "    }\n",
       "\n",
       "    .dataframe tbody tr th {\n",
       "        vertical-align: top;\n",
       "    }\n",
       "\n",
       "    .dataframe thead th {\n",
       "        text-align: right;\n",
       "    }\n",
       "</style>\n",
       "<table border=\"1\" class=\"dataframe\">\n",
       "  <thead>\n",
       "    <tr style=\"text-align: right;\">\n",
       "      <th></th>\n",
       "      <th>idx</th>\n",
       "      <th>name</th>\n",
       "      <th>res</th>\n",
       "    </tr>\n",
       "  </thead>\n",
       "  <tbody>\n",
       "    <tr>\n",
       "      <th>6</th>\n",
       "      <td>6</td>\n",
       "      <td>RFR</td>\n",
       "      <td>65568808478.69</td>\n",
       "    </tr>\n",
       "    <tr>\n",
       "      <th>9</th>\n",
       "      <td>9</td>\n",
       "      <td>XGB</td>\n",
       "      <td>66089966618.15</td>\n",
       "    </tr>\n",
       "    <tr>\n",
       "      <th>8</th>\n",
       "      <td>8</td>\n",
       "      <td>GBR</td>\n",
       "      <td>79361371644.19</td>\n",
       "    </tr>\n",
       "    <tr>\n",
       "      <th>3</th>\n",
       "      <td>3</td>\n",
       "      <td>KNN</td>\n",
       "      <td>96107253724.40</td>\n",
       "    </tr>\n",
       "    <tr>\n",
       "      <th>7</th>\n",
       "      <td>7</td>\n",
       "      <td>ABR</td>\n",
       "      <td>130869934376.98</td>\n",
       "    </tr>\n",
       "    <tr>\n",
       "      <th>4</th>\n",
       "      <td>4</td>\n",
       "      <td>CART</td>\n",
       "      <td>142345120434.88</td>\n",
       "    </tr>\n",
       "    <tr>\n",
       "      <th>1</th>\n",
       "      <td>1</td>\n",
       "      <td>LASSO</td>\n",
       "      <td>226773498547.70</td>\n",
       "    </tr>\n",
       "    <tr>\n",
       "      <th>0</th>\n",
       "      <td>0</td>\n",
       "      <td>LR</td>\n",
       "      <td>226869845151.53</td>\n",
       "    </tr>\n",
       "    <tr>\n",
       "      <th>2</th>\n",
       "      <td>2</td>\n",
       "      <td>EN</td>\n",
       "      <td>231034953153.08</td>\n",
       "    </tr>\n",
       "    <tr>\n",
       "      <th>5</th>\n",
       "      <td>5</td>\n",
       "      <td>SVR</td>\n",
       "      <td>320749630200.92</td>\n",
       "    </tr>\n",
       "  </tbody>\n",
       "</table>\n",
       "</div>"
      ],
      "text/plain": [
       "  idx   name             res\n",
       "6   6    RFR  65568808478.69\n",
       "9   9    XGB  66089966618.15\n",
       "8   8    GBR  79361371644.19\n",
       "3   3    KNN  96107253724.40\n",
       "7   7    ABR 130869934376.98\n",
       "4   4   CART 142345120434.88\n",
       "1   1  LASSO 226773498547.70\n",
       "0   0     LR 226869845151.53\n",
       "2   2     EN 231034953153.08\n",
       "5   5    SVR 320749630200.92"
      ]
     },
     "execution_count": 64,
     "metadata": {},
     "output_type": "execute_result"
    }
   ],
   "source": [
    "print('res -> the lower the better')\n",
    "rm.sort_values('res',ascending=True)"
   ]
  },
  {
   "cell_type": "code",
   "execution_count": 464,
   "id": "0fe206c8",
   "metadata": {},
   "outputs": [
    {
     "data": {
      "image/png": "[encoded data removed]",
      "text/plain": [
       "<Figure size 1500x800 with 1 Axes>"
      ]
     },
     "metadata": {},
     "output_type": "display_data"
    }
   ],
   "source": [
    "fig = plt.figure()\n",
    "\n",
    "fig.suptitle('Algorithm Comparison: Kfold results\\NThe lower the better')\n",
    "ax = fig.add_subplot(111)\n",
    "plt.boxplot(kfold_results)\n",
    "ax.set_xticklabels(names)\n",
    "fig.set_size_inches(15,8)\n",
    "plt.ticklabel_format(style='plain', axis='y')\n",
    "plt.show()"
   ]
  },
  {
   "cell_type": "markdown",
   "id": "24fac27e",
   "metadata": {},
   "source": [
    "#### Random Forest for feature_importances_"
   ]
  },
  {
   "cell_type": "code",
   "execution_count": 78,
   "id": "20d70eec",
   "metadata": {},
   "outputs": [
    {
     "data": {
      "text/plain": [
       "RandomForestRegressor()"
      ]
     },
     "execution_count": 78,
     "metadata": {},
     "output_type": "execute_result"
    }
   ],
   "source": [
    "rf = RandomForestRegressor()\n",
    "rf.fit(X_train, y_train)"
   ]
  },
  {
   "cell_type": "code",
   "execution_count": null,
   "id": "2290b00a",
   "metadata": {
    "scrolled": true
   },
   "outputs": [
    {
     "data": {
      "text/plain": [
       "array([0.08673817, 0.04708993, 0.69570111, 0.12108736, 0.00507553,\n",
       "       0.01048785, 0.03382004])"
      ]
     },
     "execution_count": 79,
     "metadata": {},
     "output_type": "execute_result"
    }
   ],
   "source": [
    "rf.feature_importances_"
   ]
  },
  {
   "cell_type": "code",
   "execution_count": 83,
   "id": "5820ce14",
   "metadata": {},
   "outputs": [
    {
     "data": {
      "text/html": [
       "<div>\n",
       "<style scoped>\n",
       "    .dataframe tbody tr th:only-of-type {\n",
       "        vertical-align: middle;\n",
       "    }\n",
       "\n",
       "    .dataframe tbody tr th {\n",
       "        vertical-align: top;\n",
       "    }\n",
       "\n",
       "    .dataframe thead th {\n",
       "        text-align: right;\n",
       "    }\n",
       "</style>\n",
       "<table border=\"1\" class=\"dataframe\">\n",
       "  <thead>\n",
       "    <tr style=\"text-align: right;\">\n",
       "      <th></th>\n",
       "      <th>imprt</th>\n",
       "    </tr>\n",
       "  </thead>\n",
       "  <tbody>\n",
       "    <tr>\n",
       "      <th>sq</th>\n",
       "      <td>0.70</td>\n",
       "    </tr>\n",
       "    <tr>\n",
       "      <th>year</th>\n",
       "      <td>0.12</td>\n",
       "    </tr>\n",
       "    <tr>\n",
       "      <th>floor</th>\n",
       "      <td>0.09</td>\n",
       "    </tr>\n",
       "    <tr>\n",
       "      <th>rooms</th>\n",
       "      <td>0.05</td>\n",
       "    </tr>\n",
       "    <tr>\n",
       "      <th>city_Warszawa</th>\n",
       "      <td>0.03</td>\n",
       "    </tr>\n",
       "    <tr>\n",
       "      <th>city_Poznan</th>\n",
       "      <td>0.01</td>\n",
       "    </tr>\n",
       "    <tr>\n",
       "      <th>city_Krakow</th>\n",
       "      <td>0.01</td>\n",
       "    </tr>\n",
       "  </tbody>\n",
       "</table>\n",
       "</div>"
      ],
      "text/plain": [
       "               imprt\n",
       "sq              0.70\n",
       "year            0.12\n",
       "floor           0.09\n",
       "rooms           0.05\n",
       "city_Warszawa   0.03\n",
       "city_Poznan     0.01\n",
       "city_Krakow     0.01"
      ]
     },
     "execution_count": 83,
     "metadata": {},
     "output_type": "execute_result"
    }
   ],
   "source": [
    "df_imp = pd.DataFrame({'imprt':rf.feature_importances_},index=X1.columns).sort_values('imprt',ascending=False)\n",
    "df_imp"
   ]
  },
  {
   "cell_type": "code",
   "execution_count": 84,
   "id": "390b205a",
   "metadata": {},
   "outputs": [
    {
     "data": {
      "text/plain": [
       "<AxesSubplot:>"
      ]
     },
     "execution_count": 84,
     "metadata": {},
     "output_type": "execute_result"
    },
    {
     "data": {
      "image/png": "[encoded data removed]",
      "text/plain": [
       "<Figure size 1200x800 with 1 Axes>"
      ]
     },
     "metadata": {},
     "output_type": "display_data"
    }
   ],
   "source": [
    "# df_imp.plot(kind='bar')\n",
    "plt.figure(figsize=(12,8))\n",
    "sns.barplot(y=rf.feature_importances_,x=X1.columns)"
   ]
  },
  {
   "cell_type": "markdown",
   "id": "d8f59129",
   "metadata": {},
   "source": [
    "# Pipeline, GridSearchCV & Modelling"
   ]
  },
  {
   "cell_type": "code",
   "execution_count": 73,
   "id": "4ca1e305-9cca-465b-a9f2-8c4880afff29",
   "metadata": {},
   "outputs": [],
   "source": [
    "from sklearn.metrics import r2_score"
   ]
  },
  {
   "cell_type": "code",
   "execution_count": 66,
   "id": "4d9f140e",
   "metadata": {},
   "outputs": [],
   "source": [
    "pipe = Pipeline([\n",
    "    (\"classifier\", xgb.XGBRegressor())])"
   ]
  },
  {
   "cell_type": "code",
   "execution_count": 67,
   "id": "cf8ad40a",
   "metadata": {},
   "outputs": [],
   "source": [
    "sp = [\n",
    "    {\"classifier\": [xgb.XGBRegressor(),RandomForestRegressor()],\n",
    "    \"classifier__n_estimators\": [50,100,120,150]},\n",
    "    {\"classifier\": [Lasso(),ElasticNet()],\n",
    "    \"classifier__alpha\" : [0.1, 1.0, 5.0, 10.0]}\n",
    "    ]"
   ]
  },
  {
   "cell_type": "code",
   "execution_count": 68,
   "id": "f8281275",
   "metadata": {},
   "outputs": [],
   "source": [
    "grid = GridSearchCV(pipe, sp, cv=5, verbose=0)"
   ]
  },
  {
   "cell_type": "code",
   "execution_count": 69,
   "id": "62b3a1bb",
   "metadata": {},
   "outputs": [],
   "source": [
    "bm = grid.fit(X_train,y_train)"
   ]
  },
  {
   "cell_type": "code",
   "execution_count": 70,
   "id": "931eeaf3",
   "metadata": {},
   "outputs": [
    {
     "data": {
      "text/plain": [
       "{'classifier': RandomForestRegressor(n_estimators=120),\n",
       " 'classifier__n_estimators': 120}"
      ]
     },
     "execution_count": 70,
     "metadata": {},
     "output_type": "execute_result"
    }
   ],
   "source": [
    "bm.best_params_"
   ]
  },
  {
   "cell_type": "markdown",
   "id": "6a927f16-a5e2-4db1-bdf6-da48b346dfd0",
   "metadata": {},
   "source": [
    "### Accuracy"
   ]
  },
  {
   "cell_type": "code",
   "execution_count": 76,
   "id": "5f73088a-e876-41ee-bf77-92892bac8673",
   "metadata": {},
   "outputs": [
    {
     "name": "stdout",
     "output_type": "stream",
     "text": [
      "GridSearchCV Accuracy: 0.7834666172656382\n"
     ]
    }
   ],
   "source": [
    "p = bm.predict(X_test)\n",
    "print('GridSearchCV Accuracy: '+str(r2_score(y_test, p)))"
   ]
  },
  {
   "cell_type": "markdown",
   "id": "73e83677",
   "metadata": {},
   "source": [
    "##### XGBRegressor"
   ]
  },
  {
   "cell_type": "code",
   "execution_count": 93,
   "id": "d55c6a50",
   "metadata": {},
   "outputs": [],
   "source": [
    "ml2 = xgb.XGBRegressor(n_estimators=120)\n",
    "ml2.fit(X_train,y_train)\n",
    "p2 = ml2.predict(X_test)"
   ]
  },
  {
   "cell_type": "code",
   "execution_count": 94,
   "id": "98acd24f",
   "metadata": {},
   "outputs": [
    {
     "data": {
      "text/plain": [
       "244991.1548243024"
      ]
     },
     "execution_count": 94,
     "metadata": {},
     "output_type": "execute_result"
    }
   ],
   "source": [
    "np.sqrt(mean_squared_error(y_test,p2))"
   ]
  },
  {
   "cell_type": "code",
   "execution_count": 95,
   "id": "716970a3",
   "metadata": {},
   "outputs": [
    {
     "data": {
      "text/plain": [
       "244991.1548243024"
      ]
     },
     "execution_count": 95,
     "metadata": {},
     "output_type": "execute_result"
    }
   ],
   "source": [
    "np.sqrt(mean_squared_error(y_test,p2))"
   ]
  },
  {
   "cell_type": "code",
   "execution_count": 96,
   "id": "3b5704d1",
   "metadata": {
    "scrolled": true
   },
   "outputs": [
    {
     "name": "stdout",
     "output_type": "stream",
     "text": [
      "0.7720092871842771\n"
     ]
    }
   ],
   "source": [
    "print(r2_score(y_test, p2))"
   ]
  },
  {
   "cell_type": "markdown",
   "id": "c5fa662b",
   "metadata": {},
   "source": [
    "# Neural Network"
   ]
  },
  {
   "cell_type": "code",
   "execution_count": 97,
   "id": "7e3cb642",
   "metadata": {},
   "outputs": [],
   "source": [
    "import tensorflow as tf\n",
    "from tensorflow.keras.models import Sequential\n",
    "from tensorflow.keras.layers import Dense, Activation, Dropout"
   ]
  },
  {
   "cell_type": "code",
   "execution_count": 98,
   "id": "54ef8316",
   "metadata": {},
   "outputs": [],
   "source": [
    "from keras.callbacks import EarlyStopping"
   ]
  },
  {
   "cell_type": "code",
   "execution_count": 99,
   "id": "9a1ff95f",
   "metadata": {},
   "outputs": [
    {
     "data": {
      "text/plain": [
       "(16634, 7)"
      ]
     },
     "execution_count": 99,
     "metadata": {},
     "output_type": "execute_result"
    }
   ],
   "source": [
    "X_train.shape"
   ]
  },
  {
   "cell_type": "code",
   "execution_count": 100,
   "id": "592eabed",
   "metadata": {},
   "outputs": [
    {
     "data": {
      "text/plain": [
       "16634"
      ]
     },
     "execution_count": 100,
     "metadata": {},
     "output_type": "execute_result"
    }
   ],
   "source": [
    "X_train.shape[0]"
   ]
  },
  {
   "cell_type": "code",
   "execution_count": 101,
   "id": "965750cd",
   "metadata": {},
   "outputs": [
    {
     "data": {
      "text/plain": [
       "7"
      ]
     },
     "execution_count": 101,
     "metadata": {},
     "output_type": "execute_result"
    }
   ],
   "source": [
    "X_train.shape[1]"
   ]
  },
  {
   "cell_type": "code",
   "execution_count": 338,
   "id": "78cbf15d",
   "metadata": {},
   "outputs": [],
   "source": [
    "nm = Sequential()"
   ]
  },
  {
   "cell_type": "code",
   "execution_count": 358,
   "id": "65b8913d",
   "metadata": {},
   "outputs": [],
   "source": [
    "nm.add(Dense(units=50, activation='relu'))\n",
    "nm.add(Dropout(0.15))\n",
    "nm.add(Dense(units=30, activation='relu'))\n",
    "nm.add(Dense(units=30, activation='relu'))\n",
    "nm.add(Dense(units=1, activation='relu'))"
   ]
  },
  {
   "cell_type": "code",
   "execution_count": 359,
   "id": "a1a6ce28",
   "metadata": {},
   "outputs": [],
   "source": [
    "es = EarlyStopping(monitor='val_loss',patience=50)"
   ]
  },
  {
   "cell_type": "code",
   "execution_count": 360,
   "id": "f099eb87",
   "metadata": {},
   "outputs": [],
   "source": [
    "nm.compile(loss='mse',optimizer='adam')"
   ]
  },
  {
   "cell_type": "code",
   "execution_count": 361,
   "id": "965ae9fe",
   "metadata": {},
   "outputs": [
    {
     "name": "stdout",
     "output_type": "stream",
     "text": [
      "Epoch 1/500\n",
      "130/130 [==============================] - 1s 3ms/step - loss: 267367219200.0000 - val_loss: 154655363432448.0000\n",
      "Epoch 2/500\n",
      "130/130 [==============================] - 0s 2ms/step - loss: 205166149632.0000 - val_loss: 142842039107584.0000\n",
      "Epoch 3/500\n",
      "130/130 [==============================] - 0s 1ms/step - loss: 206331265024.0000 - val_loss: 117287252131840.0000\n",
      "Epoch 4/500\n",
      "130/130 [==============================] - 0s 2ms/step - loss: 209353539584.0000 - val_loss: 101589859696640.0000\n",
      "Epoch 5/500\n",
      "130/130 [==============================] - 0s 2ms/step - loss: 208014983168.0000 - val_loss: 110880033341440.0000\n",
      "Epoch 6/500\n",
      "130/130 [==============================] - 0s 2ms/step - loss: 204605521920.0000 - val_loss: 99121704730624.0000\n",
      "Epoch 7/500\n",
      "130/130 [==============================] - 0s 2ms/step - loss: 204121833472.0000 - val_loss: 121494935961600.0000\n",
      "Epoch 8/500\n",
      "130/130 [==============================] - 0s 2ms/step - loss: 205559906304.0000 - val_loss: 126217671933952.0000\n",
      "Epoch 9/500\n",
      "130/130 [==============================] - 0s 2ms/step - loss: 208924000256.0000 - val_loss: 119707206156288.0000\n",
      "Epoch 10/500\n",
      "130/130 [==============================] - 0s 2ms/step - loss: 203993743360.0000 - val_loss: 104911731687424.0000\n",
      "Epoch 11/500\n",
      "130/130 [==============================] - 0s 1ms/step - loss: 207324299264.0000 - val_loss: 93049367560192.0000\n",
      "Epoch 12/500\n",
      "130/130 [==============================] - 0s 2ms/step - loss: 205134659584.0000 - val_loss: 90881096941568.0000\n",
      "Epoch 13/500\n",
      "130/130 [==============================] - 0s 2ms/step - loss: 203341103104.0000 - val_loss: 86516990738432.0000\n",
      "Epoch 14/500\n",
      "130/130 [==============================] - 0s 2ms/step - loss: 206984101888.0000 - val_loss: 105625333792768.0000\n",
      "Epoch 15/500\n",
      "130/130 [==============================] - 0s 2ms/step - loss: 206015184896.0000 - val_loss: 80745276112896.0000\n",
      "Epoch 16/500\n",
      "130/130 [==============================] - 0s 1ms/step - loss: 205705674752.0000 - val_loss: 82915014737920.0000\n",
      "Epoch 17/500\n",
      "130/130 [==============================] - 0s 2ms/step - loss: 203077484544.0000 - val_loss: 76905726345216.0000\n",
      "Epoch 18/500\n",
      "130/130 [==============================] - 0s 2ms/step - loss: 202713513984.0000 - val_loss: 85790646337536.0000\n",
      "Epoch 19/500\n",
      "130/130 [==============================] - 0s 2ms/step - loss: 203983699968.0000 - val_loss: 93849632374784.0000\n",
      "Epoch 20/500\n",
      "130/130 [==============================] - 0s 2ms/step - loss: 203641831424.0000 - val_loss: 96489846079488.0000\n",
      "Epoch 21/500\n",
      "130/130 [==============================] - 0s 2ms/step - loss: 203729813504.0000 - val_loss: 61250826403840.0000\n",
      "Epoch 22/500\n",
      "130/130 [==============================] - 0s 2ms/step - loss: 205924155392.0000 - val_loss: 75093199814656.0000\n",
      "Epoch 23/500\n",
      "130/130 [==============================] - 0s 2ms/step - loss: 204128026624.0000 - val_loss: 75954617581568.0000\n",
      "Epoch 24/500\n",
      "130/130 [==============================] - 0s 2ms/step - loss: 203039948800.0000 - val_loss: 83556197990400.0000\n",
      "Epoch 25/500\n",
      "130/130 [==============================] - 0s 2ms/step - loss: 204725207040.0000 - val_loss: 68740448256000.0000\n",
      "Epoch 26/500\n",
      "130/130 [==============================] - 0s 2ms/step - loss: 203321163776.0000 - val_loss: 84914640781312.0000\n",
      "Epoch 27/500\n",
      "130/130 [==============================] - 0s 2ms/step - loss: 204234342400.0000 - val_loss: 72897540390912.0000\n",
      "Epoch 28/500\n",
      "130/130 [==============================] - 0s 2ms/step - loss: 201636691968.0000 - val_loss: 71177221439488.0000\n",
      "Epoch 29/500\n",
      "130/130 [==============================] - 0s 1ms/step - loss: 204257722368.0000 - val_loss: 73341004152832.0000\n",
      "Epoch 30/500\n",
      "130/130 [==============================] - 0s 2ms/step - loss: 202945904640.0000 - val_loss: 66837463171072.0000\n",
      "Epoch 31/500\n",
      "130/130 [==============================] - 0s 2ms/step - loss: 202986291200.0000 - val_loss: 65702488702976.0000\n",
      "Epoch 32/500\n",
      "130/130 [==============================] - 0s 2ms/step - loss: 203380097024.0000 - val_loss: 66002352078848.0000\n",
      "Epoch 33/500\n",
      "130/130 [==============================] - 0s 2ms/step - loss: 202438426624.0000 - val_loss: 67691339579392.0000\n",
      "Epoch 34/500\n",
      "130/130 [==============================] - 0s 2ms/step - loss: 203225022464.0000 - val_loss: 54162268094464.0000\n",
      "Epoch 35/500\n",
      "130/130 [==============================] - 0s 2ms/step - loss: 201221111808.0000 - val_loss: 62981329125376.0000\n",
      "Epoch 36/500\n",
      "130/130 [==============================] - 0s 2ms/step - loss: 200671690752.0000 - val_loss: 58006288990208.0000\n",
      "Epoch 37/500\n",
      "130/130 [==============================] - 0s 1ms/step - loss: 202114514944.0000 - val_loss: 67741411180544.0000\n",
      "Epoch 38/500\n",
      "130/130 [==============================] - 0s 2ms/step - loss: 201422340096.0000 - val_loss: 62472841068544.0000\n",
      "Epoch 39/500\n",
      "130/130 [==============================] - 0s 2ms/step - loss: 201459433472.0000 - val_loss: 60602491863040.0000\n",
      "Epoch 40/500\n",
      "130/130 [==============================] - 0s 2ms/step - loss: 202894344192.0000 - val_loss: 67124768800768.0000\n",
      "Epoch 41/500\n",
      "130/130 [==============================] - 0s 2ms/step - loss: 202749329408.0000 - val_loss: 55559982153728.0000\n",
      "Epoch 42/500\n",
      "130/130 [==============================] - 0s 1ms/step - loss: 202584195072.0000 - val_loss: 57601685454848.0000\n",
      "Epoch 43/500\n",
      "130/130 [==============================] - 0s 2ms/step - loss: 202353934336.0000 - val_loss: 61544557707264.0000\n",
      "Epoch 44/500\n",
      "130/130 [==============================] - 0s 2ms/step - loss: 202572677120.0000 - val_loss: 49669803606016.0000\n",
      "Epoch 45/500\n",
      "130/130 [==============================] - 0s 2ms/step - loss: 199987593216.0000 - val_loss: 59178995417088.0000\n",
      "Epoch 46/500\n",
      "130/130 [==============================] - 0s 2ms/step - loss: 201819504640.0000 - val_loss: 48334844723200.0000\n",
      "Epoch 47/500\n",
      "130/130 [==============================] - 0s 2ms/step - loss: 200382955520.0000 - val_loss: 51565159251968.0000\n",
      "Epoch 48/500\n",
      "130/130 [==============================] - 0s 2ms/step - loss: 201913548800.0000 - val_loss: 52755100073984.0000\n",
      "Epoch 49/500\n",
      "130/130 [==============================] - 0s 2ms/step - loss: 200445165568.0000 - val_loss: 52896716554240.0000\n",
      "Epoch 50/500\n",
      "130/130 [==============================] - 0s 2ms/step - loss: 201861005312.0000 - val_loss: 46564135403520.0000\n",
      "Epoch 51/500\n",
      "130/130 [==============================] - 0s 2ms/step - loss: 202851401728.0000 - val_loss: 52996008312832.0000\n",
      "Epoch 52/500\n",
      "130/130 [==============================] - 0s 1ms/step - loss: 201169911808.0000 - val_loss: 53230348271616.0000\n",
      "Epoch 53/500\n",
      "130/130 [==============================] - 0s 2ms/step - loss: 200778153984.0000 - val_loss: 48671697666048.0000\n",
      "Epoch 54/500\n",
      "130/130 [==============================] - 0s 2ms/step - loss: 200956690432.0000 - val_loss: 47406091599872.0000\n",
      "Epoch 55/500\n",
      "130/130 [==============================] - 0s 1ms/step - loss: 201234186240.0000 - val_loss: 55159866523648.0000\n",
      "Epoch 56/500\n",
      "130/130 [==============================] - 0s 2ms/step - loss: 200834088960.0000 - val_loss: 52402979864576.0000\n",
      "Epoch 57/500\n",
      "130/130 [==============================] - 0s 2ms/step - loss: 200706998272.0000 - val_loss: 56668171796480.0000\n",
      "Epoch 58/500\n",
      "130/130 [==============================] - 0s 1ms/step - loss: 201608626176.0000 - val_loss: 46969506496512.0000\n",
      "Epoch 59/500\n",
      "130/130 [==============================] - 0s 2ms/step - loss: 200847622144.0000 - val_loss: 48313969672192.0000\n",
      "Epoch 60/500\n",
      "130/130 [==============================] - 0s 2ms/step - loss: 200571912192.0000 - val_loss: 44743316733952.0000\n",
      "Epoch 61/500\n",
      "130/130 [==============================] - 0s 2ms/step - loss: 201272098816.0000 - val_loss: 46197033140224.0000\n",
      "Epoch 62/500\n",
      "130/130 [==============================] - 0s 1ms/step - loss: 201299787776.0000 - val_loss: 51640841273344.0000\n",
      "Epoch 63/500\n",
      "130/130 [==============================] - 0s 2ms/step - loss: 200262107136.0000 - val_loss: 49061944098816.0000\n",
      "Epoch 64/500\n",
      "130/130 [==============================] - 0s 2ms/step - loss: 200614330368.0000 - val_loss: 39665008640000.0000\n",
      "Epoch 65/500\n",
      "130/130 [==============================] - 0s 2ms/step - loss: 200209793024.0000 - val_loss: 46572821807104.0000\n",
      "Epoch 66/500\n",
      "130/130 [==============================] - 0s 2ms/step - loss: 200800419840.0000 - val_loss: 44856449695744.0000\n",
      "Epoch 67/500\n",
      "130/130 [==============================] - 0s 2ms/step - loss: 199451164672.0000 - val_loss: 45702755385344.0000\n",
      "Epoch 68/500\n",
      "130/130 [==============================] - 0s 2ms/step - loss: 201256779776.0000 - val_loss: 46240590987264.0000\n",
      "Epoch 69/500\n",
      "130/130 [==============================] - 0s 2ms/step - loss: 201418719232.0000 - val_loss: 40686845952000.0000\n",
      "Epoch 70/500\n",
      "130/130 [==============================] - 0s 1ms/step - loss: 199965032448.0000 - val_loss: 41224463450112.0000\n",
      "Epoch 71/500\n",
      "130/130 [==============================] - 0s 1ms/step - loss: 200969961472.0000 - val_loss: 38553522274304.0000\n",
      "Epoch 72/500\n",
      "130/130 [==============================] - 0s 2ms/step - loss: 199520370688.0000 - val_loss: 43657700835328.0000\n",
      "Epoch 73/500\n",
      "130/130 [==============================] - 0s 2ms/step - loss: 200327774208.0000 - val_loss: 45486601928704.0000\n",
      "Epoch 74/500\n",
      "130/130 [==============================] - 0s 2ms/step - loss: 200541896704.0000 - val_loss: 47818525900800.0000\n",
      "Epoch 75/500\n",
      "130/130 [==============================] - 0s 2ms/step - loss: 201066086400.0000 - val_loss: 39620079255552.0000\n",
      "Epoch 76/500\n",
      "130/130 [==============================] - 0s 2ms/step - loss: 200396881920.0000 - val_loss: 39709048832000.0000\n",
      "Epoch 77/500\n",
      "130/130 [==============================] - 0s 2ms/step - loss: 200247525376.0000 - val_loss: 42284435374080.0000\n",
      "Epoch 78/500\n",
      "130/130 [==============================] - 0s 2ms/step - loss: 199498629120.0000 - val_loss: 48704178356224.0000\n",
      "Epoch 79/500\n",
      "130/130 [==============================] - 0s 2ms/step - loss: 199499726848.0000 - val_loss: 42740473659392.0000\n",
      "Epoch 80/500\n",
      "130/130 [==============================] - 0s 2ms/step - loss: 201057304576.0000 - val_loss: 46494140858368.0000\n",
      "Epoch 81/500\n",
      "130/130 [==============================] - 0s 2ms/step - loss: 200921972736.0000 - val_loss: 40525537214464.0000\n",
      "Epoch 82/500\n",
      "130/130 [==============================] - 0s 2ms/step - loss: 199808778240.0000 - val_loss: 36949679144960.0000\n",
      "Epoch 83/500\n",
      "130/130 [==============================] - 0s 2ms/step - loss: 200959426560.0000 - val_loss: 39072089243648.0000\n",
      "Epoch 84/500\n",
      "130/130 [==============================] - 0s 2ms/step - loss: 199280033792.0000 - val_loss: 38835618578432.0000\n",
      "Epoch 85/500\n",
      "130/130 [==============================] - 0s 2ms/step - loss: 199893860352.0000 - val_loss: 40156925001728.0000\n",
      "Epoch 86/500\n",
      "130/130 [==============================] - 0s 2ms/step - loss: 199523532800.0000 - val_loss: 37112808210432.0000\n",
      "Epoch 87/500\n",
      "130/130 [==============================] - 0s 2ms/step - loss: 199443726336.0000 - val_loss: 39459668099072.0000\n",
      "Epoch 88/500\n",
      "130/130 [==============================] - 0s 2ms/step - loss: 198919733248.0000 - val_loss: 40283827863552.0000\n",
      "Epoch 89/500\n",
      "130/130 [==============================] - 0s 2ms/step - loss: 199154565120.0000 - val_loss: 41290670538752.0000\n",
      "Epoch 90/500\n",
      "130/130 [==============================] - 0s 2ms/step - loss: 197992759296.0000 - val_loss: 43449403310080.0000\n",
      "Epoch 91/500\n",
      "130/130 [==============================] - 0s 2ms/step - loss: 198991626240.0000 - val_loss: 36635659993088.0000\n",
      "Epoch 92/500\n",
      "130/130 [==============================] - 0s 2ms/step - loss: 198405193728.0000 - val_loss: 40618042589184.0000\n",
      "Epoch 93/500\n",
      "130/130 [==============================] - 0s 2ms/step - loss: 199382532096.0000 - val_loss: 43928174723072.0000\n",
      "Epoch 94/500\n",
      "130/130 [==============================] - 0s 2ms/step - loss: 200225341440.0000 - val_loss: 38449134436352.0000\n",
      "Epoch 95/500\n",
      "130/130 [==============================] - 0s 2ms/step - loss: 198588121088.0000 - val_loss: 33354399350784.0000\n",
      "Epoch 96/500\n",
      "130/130 [==============================] - 0s 2ms/step - loss: 198415368192.0000 - val_loss: 34441923657728.0000\n",
      "Epoch 97/500\n",
      "130/130 [==============================] - 0s 2ms/step - loss: 199724154880.0000 - val_loss: 41121627504640.0000\n",
      "Epoch 98/500\n",
      "130/130 [==============================] - 0s 2ms/step - loss: 199030898688.0000 - val_loss: 38013157507072.0000\n",
      "Epoch 99/500\n",
      "130/130 [==============================] - 0s 2ms/step - loss: 199201472512.0000 - val_loss: 38776948654080.0000\n",
      "Epoch 100/500\n",
      "130/130 [==============================] - 0s 2ms/step - loss: 197965512704.0000 - val_loss: 35513675284480.0000\n",
      "Epoch 101/500\n",
      "130/130 [==============================] - 0s 2ms/step - loss: 199219937280.0000 - val_loss: 36567280254976.0000\n",
      "Epoch 102/500\n",
      "130/130 [==============================] - 0s 2ms/step - loss: 199008616448.0000 - val_loss: 36425152069632.0000\n",
      "Epoch 103/500\n",
      "130/130 [==============================] - 0s 2ms/step - loss: 198593380352.0000 - val_loss: 38896981245952.0000\n",
      "Epoch 104/500\n",
      "130/130 [==============================] - 0s 2ms/step - loss: 198516686848.0000 - val_loss: 34764090245120.0000\n",
      "Epoch 105/500\n",
      "130/130 [==============================] - 0s 2ms/step - loss: 198494289920.0000 - val_loss: 38213666209792.0000\n",
      "Epoch 106/500\n",
      "130/130 [==============================] - 0s 2ms/step - loss: 198971293696.0000 - val_loss: 35906903867392.0000\n",
      "Epoch 107/500\n",
      "130/130 [==============================] - 0s 2ms/step - loss: 198204637184.0000 - val_loss: 38076667658240.0000\n",
      "Epoch 108/500\n",
      "130/130 [==============================] - 0s 2ms/step - loss: 198705922048.0000 - val_loss: 36170327130112.0000\n",
      "Epoch 109/500\n",
      "130/130 [==============================] - 0s 2ms/step - loss: 199525171200.0000 - val_loss: 34919591968768.0000\n",
      "Epoch 110/500\n",
      "130/130 [==============================] - 0s 2ms/step - loss: 198419382272.0000 - val_loss: 36802886893568.0000\n",
      "Epoch 111/500\n",
      "130/130 [==============================] - 0s 2ms/step - loss: 198328516608.0000 - val_loss: 37302394945536.0000\n",
      "Epoch 112/500\n",
      "130/130 [==============================] - 0s 2ms/step - loss: 197936103424.0000 - val_loss: 35317272805376.0000\n",
      "Epoch 113/500\n",
      "130/130 [==============================] - 0s 2ms/step - loss: 198225199104.0000 - val_loss: 37925014208512.0000\n",
      "Epoch 114/500\n",
      "130/130 [==============================] - 0s 2ms/step - loss: 197540003840.0000 - val_loss: 40949405188096.0000\n",
      "Epoch 115/500\n",
      "130/130 [==============================] - 0s 2ms/step - loss: 198382239744.0000 - val_loss: 35483132362752.0000\n",
      "Epoch 116/500\n",
      "130/130 [==============================] - 0s 2ms/step - loss: 197868961792.0000 - val_loss: 32991866781696.0000\n",
      "Epoch 117/500\n",
      "130/130 [==============================] - 0s 2ms/step - loss: 197985992704.0000 - val_loss: 35052855492608.0000\n",
      "Epoch 118/500\n",
      "130/130 [==============================] - 0s 2ms/step - loss: 198347456512.0000 - val_loss: 40019855147008.0000\n",
      "Epoch 119/500\n",
      "130/130 [==============================] - 0s 2ms/step - loss: 197943853056.0000 - val_loss: 35677790011392.0000\n",
      "Epoch 120/500\n",
      "130/130 [==============================] - 0s 2ms/step - loss: 197579390976.0000 - val_loss: 41400649383936.0000\n",
      "Epoch 121/500\n",
      "130/130 [==============================] - 0s 2ms/step - loss: 197456297984.0000 - val_loss: 40011386847232.0000\n",
      "Epoch 122/500\n",
      "130/130 [==============================] - 0s 2ms/step - loss: 197426118656.0000 - val_loss: 39030955704320.0000\n",
      "Epoch 123/500\n",
      "130/130 [==============================] - 0s 2ms/step - loss: 197860671488.0000 - val_loss: 37707447271424.0000\n",
      "Epoch 124/500\n",
      "130/130 [==============================] - 0s 2ms/step - loss: 197410684928.0000 - val_loss: 39605839593472.0000\n",
      "Epoch 125/500\n",
      "130/130 [==============================] - 0s 2ms/step - loss: 198265520128.0000 - val_loss: 38073467404288.0000\n",
      "Epoch 126/500\n",
      "130/130 [==============================] - 0s 2ms/step - loss: 198195232768.0000 - val_loss: 36656056893440.0000\n",
      "Epoch 127/500\n",
      "130/130 [==============================] - 0s 2ms/step - loss: 198154289152.0000 - val_loss: 34408392294400.0000\n",
      "Epoch 128/500\n",
      "130/130 [==============================] - 0s 2ms/step - loss: 196777082880.0000 - val_loss: 33202745901056.0000\n",
      "Epoch 129/500\n",
      "130/130 [==============================] - 0s 2ms/step - loss: 198764445696.0000 - val_loss: 35716054646784.0000\n",
      "Epoch 130/500\n",
      "130/130 [==============================] - 0s 2ms/step - loss: 197359861760.0000 - val_loss: 31899430944768.0000\n",
      "Epoch 131/500\n",
      "130/130 [==============================] - 0s 2ms/step - loss: 197244764160.0000 - val_loss: 39001708822528.0000\n",
      "Epoch 132/500\n",
      "130/130 [==============================] - 0s 2ms/step - loss: 197529714688.0000 - val_loss: 35316526219264.0000\n",
      "Epoch 133/500\n",
      "130/130 [==============================] - 0s 2ms/step - loss: 196720033792.0000 - val_loss: 39836790554624.0000\n",
      "Epoch 134/500\n",
      "130/130 [==============================] - 0s 2ms/step - loss: 196515119104.0000 - val_loss: 33996230623232.0000\n",
      "Epoch 135/500\n",
      "130/130 [==============================] - 0s 2ms/step - loss: 196340580352.0000 - val_loss: 35681288060928.0000\n",
      "Epoch 136/500\n",
      "130/130 [==============================] - 0s 2ms/step - loss: 196742152192.0000 - val_loss: 36199095861248.0000\n",
      "Epoch 137/500\n",
      "130/130 [==============================] - 0s 2ms/step - loss: 196664033280.0000 - val_loss: 38738218450944.0000\n",
      "Epoch 138/500\n",
      "130/130 [==============================] - 0s 1ms/step - loss: 196631920640.0000 - val_loss: 36666878197760.0000\n",
      "Epoch 139/500\n",
      "130/130 [==============================] - 0s 2ms/step - loss: 196433690624.0000 - val_loss: 32022206611456.0000\n",
      "Epoch 140/500\n",
      "130/130 [==============================] - 0s 2ms/step - loss: 197303304192.0000 - val_loss: 34965257453568.0000\n",
      "Epoch 141/500\n",
      "130/130 [==============================] - 0s 1ms/step - loss: 197014224896.0000 - val_loss: 33342168760320.0000\n",
      "Epoch 142/500\n",
      "130/130 [==============================] - 0s 1ms/step - loss: 197728141312.0000 - val_loss: 33575292370944.0000\n",
      "Epoch 143/500\n",
      "130/130 [==============================] - 0s 1ms/step - loss: 196957863936.0000 - val_loss: 34296614092800.0000\n",
      "Epoch 144/500\n",
      "130/130 [==============================] - 0s 2ms/step - loss: 196198596608.0000 - val_loss: 36661413019648.0000\n",
      "Epoch 145/500\n",
      "130/130 [==============================] - 0s 2ms/step - loss: 196994236416.0000 - val_loss: 42157767393280.0000\n",
      "Epoch 146/500\n",
      "130/130 [==============================] - 0s 2ms/step - loss: 196413636608.0000 - val_loss: 34172060041216.0000\n",
      "Epoch 147/500\n",
      "130/130 [==============================] - 0s 2ms/step - loss: 196402839552.0000 - val_loss: 35465537257472.0000\n",
      "Epoch 148/500\n",
      "130/130 [==============================] - 0s 2ms/step - loss: 195890561024.0000 - val_loss: 38996658880512.0000\n",
      "Epoch 149/500\n",
      "130/130 [==============================] - 0s 2ms/step - loss: 197048270848.0000 - val_loss: 36988598091776.0000\n",
      "Epoch 150/500\n",
      "130/130 [==============================] - 0s 2ms/step - loss: 195864035328.0000 - val_loss: 34187549605888.0000\n",
      "Epoch 151/500\n",
      "130/130 [==============================] - 0s 2ms/step - loss: 197500600320.0000 - val_loss: 37352135196672.0000\n",
      "Epoch 152/500\n",
      "130/130 [==============================] - 0s 2ms/step - loss: 196262395904.0000 - val_loss: 34593623244800.0000\n",
      "Epoch 153/500\n",
      "130/130 [==============================] - 0s 2ms/step - loss: 196119707648.0000 - val_loss: 35798715990016.0000\n",
      "Epoch 154/500\n",
      "130/130 [==============================] - 0s 2ms/step - loss: 196259446784.0000 - val_loss: 34743143890944.0000\n",
      "Epoch 155/500\n",
      "130/130 [==============================] - 0s 2ms/step - loss: 196036935680.0000 - val_loss: 35184594386944.0000\n",
      "Epoch 156/500\n",
      "130/130 [==============================] - 0s 2ms/step - loss: 196441341952.0000 - val_loss: 35778591719424.0000\n",
      "Epoch 157/500\n",
      "130/130 [==============================] - 0s 2ms/step - loss: 195972415488.0000 - val_loss: 36527186903040.0000\n",
      "Epoch 158/500\n",
      "130/130 [==============================] - 0s 2ms/step - loss: 195579543552.0000 - val_loss: 33051060994048.0000\n",
      "Epoch 159/500\n",
      "130/130 [==============================] - 0s 2ms/step - loss: 195508191232.0000 - val_loss: 35875371089920.0000\n",
      "Epoch 160/500\n",
      "130/130 [==============================] - 0s 1ms/step - loss: 194624552960.0000 - val_loss: 38261577744384.0000\n",
      "Epoch 161/500\n",
      "130/130 [==============================] - 0s 2ms/step - loss: 194385641472.0000 - val_loss: 35011178790912.0000\n",
      "Epoch 162/500\n",
      "130/130 [==============================] - 0s 2ms/step - loss: 195466739712.0000 - val_loss: 36210240126976.0000\n",
      "Epoch 163/500\n",
      "130/130 [==============================] - 0s 2ms/step - loss: 195012591616.0000 - val_loss: 39331792158720.0000\n",
      "Epoch 164/500\n",
      "130/130 [==============================] - 0s 2ms/step - loss: 195579543552.0000 - val_loss: 37806650949632.0000\n",
      "Epoch 165/500\n",
      "130/130 [==============================] - 0s 2ms/step - loss: 195423404032.0000 - val_loss: 31314010963968.0000\n",
      "Epoch 166/500\n",
      "130/130 [==============================] - 0s 2ms/step - loss: 196497817600.0000 - val_loss: 36980813463552.0000\n",
      "Epoch 167/500\n",
      "130/130 [==============================] - 0s 1ms/step - loss: 195390226432.0000 - val_loss: 38381748748288.0000\n",
      "Epoch 168/500\n",
      "130/130 [==============================] - 0s 2ms/step - loss: 196078092288.0000 - val_loss: 34812091957248.0000\n",
      "Epoch 169/500\n",
      "130/130 [==============================] - 0s 2ms/step - loss: 194694692864.0000 - val_loss: 33926517096448.0000\n",
      "Epoch 170/500\n",
      "130/130 [==============================] - 0s 2ms/step - loss: 194841624576.0000 - val_loss: 40080668360704.0000\n",
      "Epoch 171/500\n",
      "130/130 [==============================] - 0s 2ms/step - loss: 194279669760.0000 - val_loss: 36910743420928.0000\n",
      "Epoch 172/500\n",
      "130/130 [==============================] - 0s 1ms/step - loss: 194694184960.0000 - val_loss: 42193926488064.0000\n",
      "Epoch 173/500\n",
      "130/130 [==============================] - 0s 2ms/step - loss: 195337732096.0000 - val_loss: 36649899655168.0000\n",
      "Epoch 174/500\n",
      "130/130 [==============================] - 0s 2ms/step - loss: 194885910528.0000 - val_loss: 38751531171840.0000\n",
      "Epoch 175/500\n",
      "130/130 [==============================] - 0s 1ms/step - loss: 194508095488.0000 - val_loss: 37127945453568.0000\n",
      "Epoch 176/500\n",
      "130/130 [==============================] - 0s 2ms/step - loss: 194328313856.0000 - val_loss: 37569370783744.0000\n",
      "Epoch 177/500\n",
      "130/130 [==============================] - 0s 1ms/step - loss: 195022782464.0000 - val_loss: 41818708246528.0000\n",
      "Epoch 178/500\n",
      "130/130 [==============================] - 0s 2ms/step - loss: 194837004288.0000 - val_loss: 39135406456832.0000\n",
      "Epoch 179/500\n",
      "130/130 [==============================] - 0s 2ms/step - loss: 193498054656.0000 - val_loss: 38930162384896.0000\n",
      "Epoch 180/500\n",
      "130/130 [==============================] - 0s 1ms/step - loss: 193776697344.0000 - val_loss: 44463598600192.0000\n",
      "Epoch 181/500\n",
      "130/130 [==============================] - 0s 2ms/step - loss: 194204516352.0000 - val_loss: 40664582586368.0000\n",
      "Epoch 182/500\n",
      "130/130 [==============================] - 0s 2ms/step - loss: 193445199872.0000 - val_loss: 39139760144384.0000\n",
      "Epoch 183/500\n",
      "130/130 [==============================] - 0s 2ms/step - loss: 195114319872.0000 - val_loss: 34689421148160.0000\n",
      "Epoch 184/500\n",
      "130/130 [==============================] - 0s 2ms/step - loss: 195045457920.0000 - val_loss: 37793644412928.0000\n",
      "Epoch 185/500\n",
      "130/130 [==============================] - 0s 2ms/step - loss: 194296250368.0000 - val_loss: 37954735046656.0000\n",
      "Epoch 186/500\n",
      "130/130 [==============================] - 0s 2ms/step - loss: 194192408576.0000 - val_loss: 34572704153600.0000\n",
      "Epoch 187/500\n",
      "130/130 [==============================] - 0s 1ms/step - loss: 193878491136.0000 - val_loss: 37287165427712.0000\n",
      "Epoch 188/500\n",
      "130/130 [==============================] - 0s 2ms/step - loss: 193574895616.0000 - val_loss: 35796451065856.0000\n",
      "Epoch 189/500\n",
      "130/130 [==============================] - 0s 2ms/step - loss: 193766293504.0000 - val_loss: 42123311185920.0000\n",
      "Epoch 190/500\n",
      "130/130 [==============================] - 0s 2ms/step - loss: 193608597504.0000 - val_loss: 42772241317888.0000\n",
      "Epoch 191/500\n",
      "130/130 [==============================] - 0s 2ms/step - loss: 193632649216.0000 - val_loss: 37502316445696.0000\n",
      "Epoch 192/500\n",
      "130/130 [==============================] - 0s 2ms/step - loss: 194191081472.0000 - val_loss: 43865956417536.0000\n",
      "Epoch 193/500\n",
      "130/130 [==============================] - 0s 2ms/step - loss: 193688584192.0000 - val_loss: 34185544728576.0000\n",
      "Epoch 194/500\n",
      "130/130 [==============================] - 0s 2ms/step - loss: 194137178112.0000 - val_loss: 36652160385024.0000\n",
      "Epoch 195/500\n",
      "130/130 [==============================] - 0s 2ms/step - loss: 193786347520.0000 - val_loss: 43127716970496.0000\n",
      "Epoch 196/500\n",
      "130/130 [==============================] - 0s 2ms/step - loss: 193287995392.0000 - val_loss: 42494767136768.0000\n",
      "Epoch 197/500\n",
      "130/130 [==============================] - 0s 2ms/step - loss: 193997144064.0000 - val_loss: 38788331995136.0000\n",
      "Epoch 198/500\n",
      "130/130 [==============================] - 0s 2ms/step - loss: 193148551168.0000 - val_loss: 41487085600768.0000\n",
      "Epoch 199/500\n",
      "130/130 [==============================] - 0s 2ms/step - loss: 191255494656.0000 - val_loss: 38007583277056.0000\n",
      "Epoch 200/500\n",
      "130/130 [==============================] - 0s 2ms/step - loss: 192028508160.0000 - val_loss: 41180012216320.0000\n",
      "Epoch 201/500\n",
      "130/130 [==============================] - 0s 2ms/step - loss: 193131741184.0000 - val_loss: 38254371930112.0000\n",
      "Epoch 202/500\n",
      "130/130 [==============================] - 0s 2ms/step - loss: 192742834176.0000 - val_loss: 41861754388480.0000\n",
      "Epoch 203/500\n",
      "130/130 [==============================] - 0s 2ms/step - loss: 193738997760.0000 - val_loss: 38593775009792.0000\n",
      "Epoch 204/500\n",
      "130/130 [==============================] - 0s 2ms/step - loss: 192383287296.0000 - val_loss: 37153962721280.0000\n",
      "Epoch 205/500\n",
      "130/130 [==============================] - 0s 2ms/step - loss: 193558675456.0000 - val_loss: 38993194385408.0000\n",
      "Epoch 206/500\n",
      "130/130 [==============================] - 0s 2ms/step - loss: 192154419200.0000 - val_loss: 39795946422272.0000\n",
      "Epoch 207/500\n",
      "130/130 [==============================] - 0s 1ms/step - loss: 192921862144.0000 - val_loss: 39296786497536.0000\n",
      "Epoch 208/500\n",
      "130/130 [==============================] - 0s 2ms/step - loss: 192930791424.0000 - val_loss: 47319407919104.0000\n",
      "Epoch 209/500\n",
      "130/130 [==============================] - 0s 2ms/step - loss: 191416778752.0000 - val_loss: 38881063862272.0000\n",
      "Epoch 210/500\n",
      "130/130 [==============================] - 0s 2ms/step - loss: 192793706496.0000 - val_loss: 42827987812352.0000\n",
      "Epoch 211/500\n",
      "130/130 [==============================] - 0s 1ms/step - loss: 192395427840.0000 - val_loss: 39369670918144.0000\n",
      "Epoch 212/500\n",
      "130/130 [==============================] - 0s 1ms/step - loss: 192245497856.0000 - val_loss: 36400300818432.0000\n",
      "Epoch 213/500\n",
      "130/130 [==============================] - 0s 2ms/step - loss: 191801425920.0000 - val_loss: 42995181158400.0000\n",
      "Epoch 214/500\n",
      "130/130 [==============================] - 0s 2ms/step - loss: 191784976384.0000 - val_loss: 41978024689664.0000\n",
      "Epoch 215/500\n",
      "130/130 [==============================] - 0s 2ms/step - loss: 193006043136.0000 - val_loss: 43880015724544.0000\n"
     ]
    }
   ],
   "source": [
    "history = nm.fit(x=X_train,y=y_train.values,epochs=500,batch_size=128, callbacks=[es],validation_data=(X_test,y_test.values))\n"
   ]
  },
  {
   "cell_type": "code",
   "execution_count": 362,
   "id": "c7e66579",
   "metadata": {},
   "outputs": [
    {
     "data": {
      "text/plain": [
       "<AxesSubplot:>"
      ]
     },
     "execution_count": 362,
     "metadata": {},
     "output_type": "execute_result"
    },
    {
     "data": {
      "image/png": "[encoded data removed]",
      "text/plain": [
       "<Figure size 640x480 with 1 Axes>"
      ]
     },
     "metadata": {},
     "output_type": "display_data"
    }
   ],
   "source": [
    "model_loss = pd.DataFrame(history.history)\n",
    "model_loss.plot()"
   ]
  },
  {
   "cell_type": "code",
   "execution_count": 363,
   "id": "a3417a66",
   "metadata": {},
   "outputs": [
    {
     "name": "stdout",
     "output_type": "stream",
     "text": [
      "223/223 [==============================] - 0s 491us/step\n"
     ]
    }
   ],
   "source": [
    "predictions = nm.predict(X_test)"
   ]
  },
  {
   "cell_type": "code",
   "execution_count": 364,
   "id": "a391336b",
   "metadata": {},
   "outputs": [
    {
     "data": {
      "text/plain": [
       "6624199.4270751625"
      ]
     },
     "execution_count": 364,
     "metadata": {},
     "output_type": "execute_result"
    }
   ],
   "source": [
    "np.sqrt(mean_squared_error(y_test,predictions))"
   ]
  },
  {
   "cell_type": "code",
   "execution_count": 365,
   "id": "2c891b07",
   "metadata": {},
   "outputs": [
    {
     "data": {
      "text/plain": [
       "641935.129754558"
      ]
     },
     "execution_count": 365,
     "metadata": {},
     "output_type": "execute_result"
    }
   ],
   "source": [
    "y_test.mean()"
   ]
  },
  {
   "cell_type": "code",
   "execution_count": 366,
   "id": "a7fb3ee6",
   "metadata": {},
   "outputs": [],
   "source": [
    "from sklearn.metrics import mean_squared_error,mean_absolute_error,explained_variance_score"
   ]
  },
  {
   "cell_type": "code",
   "execution_count": 367,
   "id": "b81154ec",
   "metadata": {},
   "outputs": [
    {
     "data": {
      "text/plain": [
       "-165.67972652954793"
      ]
     },
     "execution_count": 367,
     "metadata": {},
     "output_type": "execute_result"
    }
   ],
   "source": [
    "explained_variance_score(y_test,predictions)"
   ]
  },
  {
   "cell_type": "code",
   "execution_count": 368,
   "id": "cb6ceb0e",
   "metadata": {},
   "outputs": [
    {
     "name": "stdout",
     "output_type": "stream",
     "text": [
      "-165.6798666171523\n"
     ]
    }
   ],
   "source": [
    "print(r2_score(y_test, predictions))"
   ]
  },
  {
   "cell_type": "code",
   "execution_count": 369,
   "id": "d05615c1",
   "metadata": {},
   "outputs": [
    {
     "data": {
      "text/html": [
       "<div>\n",
       "<style scoped>\n",
       "    .dataframe tbody tr th:only-of-type {\n",
       "        vertical-align: middle;\n",
       "    }\n",
       "\n",
       "    .dataframe tbody tr th {\n",
       "        vertical-align: top;\n",
       "    }\n",
       "\n",
       "    .dataframe thead th {\n",
       "        text-align: right;\n",
       "    }\n",
       "</style>\n",
       "<table border=\"1\" class=\"dataframe\">\n",
       "  <thead>\n",
       "    <tr style=\"text-align: right;\">\n",
       "      <th></th>\n",
       "      <th>floor</th>\n",
       "      <th>id</th>\n",
       "      <th>latitude</th>\n",
       "      <th>longitude</th>\n",
       "      <th>price</th>\n",
       "      <th>rooms</th>\n",
       "      <th>sq</th>\n",
       "      <th>year</th>\n",
       "    </tr>\n",
       "  </thead>\n",
       "  <tbody>\n",
       "    <tr>\n",
       "      <th>count</th>\n",
       "      <td>23764.00</td>\n",
       "      <td>23764.00</td>\n",
       "      <td>23764.00</td>\n",
       "      <td>23764.00</td>\n",
       "      <td>23764.00</td>\n",
       "      <td>23764.00</td>\n",
       "      <td>23764.00</td>\n",
       "      <td>23764.00</td>\n",
       "    </tr>\n",
       "    <tr>\n",
       "      <th>mean</th>\n",
       "      <td>2.81</td>\n",
       "      <td>15621.96</td>\n",
       "      <td>51.37</td>\n",
       "      <td>19.86</td>\n",
       "      <td>649353.65</td>\n",
       "      <td>2.62</td>\n",
       "      <td>102.72</td>\n",
       "      <td>2000.55</td>\n",
       "    </tr>\n",
       "    <tr>\n",
       "      <th>std</th>\n",
       "      <td>2.46</td>\n",
       "      <td>8617.29</td>\n",
       "      <td>1.10</td>\n",
       "      <td>1.45</td>\n",
       "      <td>532696.99</td>\n",
       "      <td>1.00</td>\n",
       "      <td>6533.69</td>\n",
       "      <td>48.31</td>\n",
       "    </tr>\n",
       "    <tr>\n",
       "      <th>min</th>\n",
       "      <td>0.00</td>\n",
       "      <td>1.00</td>\n",
       "      <td>49.93</td>\n",
       "      <td>4.20</td>\n",
       "      <td>5000.00</td>\n",
       "      <td>1.00</td>\n",
       "      <td>8.80</td>\n",
       "      <td>70.00</td>\n",
       "    </tr>\n",
       "    <tr>\n",
       "      <th>25%</th>\n",
       "      <td>1.00</td>\n",
       "      <td>8420.75</td>\n",
       "      <td>50.07</td>\n",
       "      <td>19.92</td>\n",
       "      <td>411546.12</td>\n",
       "      <td>2.00</td>\n",
       "      <td>42.00</td>\n",
       "      <td>1985.00</td>\n",
       "    </tr>\n",
       "    <tr>\n",
       "      <th>50%</th>\n",
       "      <td>2.00</td>\n",
       "      <td>15637.50</td>\n",
       "      <td>52.19</td>\n",
       "      <td>20.00</td>\n",
       "      <td>520000.00</td>\n",
       "      <td>3.00</td>\n",
       "      <td>53.89</td>\n",
       "      <td>2019.00</td>\n",
       "    </tr>\n",
       "    <tr>\n",
       "      <th>75%</th>\n",
       "      <td>4.00</td>\n",
       "      <td>23111.25</td>\n",
       "      <td>52.27</td>\n",
       "      <td>21.00</td>\n",
       "      <td>699999.00</td>\n",
       "      <td>3.00</td>\n",
       "      <td>68.91</td>\n",
       "      <td>2021.00</td>\n",
       "    </tr>\n",
       "    <tr>\n",
       "      <th>max</th>\n",
       "      <td>10.00</td>\n",
       "      <td>30308.00</td>\n",
       "      <td>54.44</td>\n",
       "      <td>30.32</td>\n",
       "      <td>15000000.00</td>\n",
       "      <td>10.00</td>\n",
       "      <td>1007185.00</td>\n",
       "      <td>2980.00</td>\n",
       "    </tr>\n",
       "  </tbody>\n",
       "</table>\n",
       "</div>"
      ],
      "text/plain": [
       "         floor       id  latitude  longitude       price    rooms         sq  \\\n",
       "count 23764.00 23764.00  23764.00   23764.00    23764.00 23764.00   23764.00   \n",
       "mean      2.81 15621.96     51.37      19.86   649353.65     2.62     102.72   \n",
       "std       2.46  8617.29      1.10       1.45   532696.99     1.00    6533.69   \n",
       "min       0.00     1.00     49.93       4.20     5000.00     1.00       8.80   \n",
       "25%       1.00  8420.75     50.07      19.92   411546.12     2.00      42.00   \n",
       "50%       2.00 15637.50     52.19      20.00   520000.00     3.00      53.89   \n",
       "75%       4.00 23111.25     52.27      21.00   699999.00     3.00      68.91   \n",
       "max      10.00 30308.00     54.44      30.32 15000000.00    10.00 1007185.00   \n",
       "\n",
       "          year  \n",
       "count 23764.00  \n",
       "mean   2000.55  \n",
       "std      48.31  \n",
       "min      70.00  \n",
       "25%    1985.00  \n",
       "50%    2019.00  \n",
       "75%    2021.00  \n",
       "max    2980.00  "
      ]
     },
     "execution_count": 369,
     "metadata": {},
     "output_type": "execute_result"
    }
   ],
   "source": [
    "df.describe()"
   ]
  },
  {
   "cell_type": "code",
   "execution_count": 370,
   "id": "940badff",
   "metadata": {},
   "outputs": [
    {
     "data": {
      "text/html": [
       "<div>\n",
       "<style scoped>\n",
       "    .dataframe tbody tr th:only-of-type {\n",
       "        vertical-align: middle;\n",
       "    }\n",
       "\n",
       "    .dataframe tbody tr th {\n",
       "        vertical-align: top;\n",
       "    }\n",
       "\n",
       "    .dataframe thead th {\n",
       "        text-align: right;\n",
       "    }\n",
       "</style>\n",
       "<table border=\"1\" class=\"dataframe\">\n",
       "  <thead>\n",
       "    <tr style=\"text-align: right;\">\n",
       "      <th></th>\n",
       "      <th>floor</th>\n",
       "      <th>id</th>\n",
       "      <th>latitude</th>\n",
       "      <th>longitude</th>\n",
       "      <th>price</th>\n",
       "      <th>rooms</th>\n",
       "      <th>sq</th>\n",
       "      <th>year</th>\n",
       "    </tr>\n",
       "  </thead>\n",
       "  <tbody>\n",
       "    <tr>\n",
       "      <th>count</th>\n",
       "      <td>17874.00</td>\n",
       "      <td>17874.00</td>\n",
       "      <td>17874.00</td>\n",
       "      <td>17874.00</td>\n",
       "      <td>17874.00</td>\n",
       "      <td>17874.00</td>\n",
       "      <td>17874.00</td>\n",
       "      <td>17874.00</td>\n",
       "    </tr>\n",
       "    <tr>\n",
       "      <th>mean</th>\n",
       "      <td>2.68</td>\n",
       "      <td>15851.88</td>\n",
       "      <td>51.32</td>\n",
       "      <td>19.77</td>\n",
       "      <td>667631.27</td>\n",
       "      <td>2.67</td>\n",
       "      <td>61.45</td>\n",
       "      <td>2016.08</td>\n",
       "    </tr>\n",
       "    <tr>\n",
       "      <th>std</th>\n",
       "      <td>2.36</td>\n",
       "      <td>8847.47</td>\n",
       "      <td>1.11</td>\n",
       "      <td>1.46</td>\n",
       "      <td>567889.51</td>\n",
       "      <td>1.00</td>\n",
       "      <td>29.13</td>\n",
       "      <td>8.39</td>\n",
       "    </tr>\n",
       "    <tr>\n",
       "      <th>min</th>\n",
       "      <td>0.00</td>\n",
       "      <td>1.00</td>\n",
       "      <td>49.93</td>\n",
       "      <td>12.37</td>\n",
       "      <td>5000.00</td>\n",
       "      <td>1.00</td>\n",
       "      <td>8.80</td>\n",
       "      <td>1985.00</td>\n",
       "    </tr>\n",
       "    <tr>\n",
       "      <th>25%</th>\n",
       "      <td>1.00</td>\n",
       "      <td>8142.50</td>\n",
       "      <td>50.06</td>\n",
       "      <td>19.90</td>\n",
       "      <td>419000.00</td>\n",
       "      <td>2.00</td>\n",
       "      <td>43.64</td>\n",
       "      <td>2014.00</td>\n",
       "    </tr>\n",
       "    <tr>\n",
       "      <th>50%</th>\n",
       "      <td>2.00</td>\n",
       "      <td>16212.50</td>\n",
       "      <td>52.18</td>\n",
       "      <td>19.99</td>\n",
       "      <td>532000.00</td>\n",
       "      <td>3.00</td>\n",
       "      <td>56.00</td>\n",
       "      <td>2020.00</td>\n",
       "    </tr>\n",
       "    <tr>\n",
       "      <th>75%</th>\n",
       "      <td>4.00</td>\n",
       "      <td>23694.75</td>\n",
       "      <td>52.28</td>\n",
       "      <td>20.98</td>\n",
       "      <td>721398.75</td>\n",
       "      <td>3.00</td>\n",
       "      <td>71.00</td>\n",
       "      <td>2021.00</td>\n",
       "    </tr>\n",
       "    <tr>\n",
       "      <th>max</th>\n",
       "      <td>10.00</td>\n",
       "      <td>30308.00</td>\n",
       "      <td>54.41</td>\n",
       "      <td>22.63</td>\n",
       "      <td>15000000.00</td>\n",
       "      <td>10.00</td>\n",
       "      <td>442.20</td>\n",
       "      <td>2024.00</td>\n",
       "    </tr>\n",
       "  </tbody>\n",
       "</table>\n",
       "</div>"
      ],
      "text/plain": [
       "         floor       id  latitude  longitude       price    rooms       sq  \\\n",
       "count 17874.00 17874.00  17874.00   17874.00    17874.00 17874.00 17874.00   \n",
       "mean      2.68 15851.88     51.32      19.77   667631.27     2.67    61.45   \n",
       "std       2.36  8847.47      1.11       1.46   567889.51     1.00    29.13   \n",
       "min       0.00     1.00     49.93      12.37     5000.00     1.00     8.80   \n",
       "25%       1.00  8142.50     50.06      19.90   419000.00     2.00    43.64   \n",
       "50%       2.00 16212.50     52.18      19.99   532000.00     3.00    56.00   \n",
       "75%       4.00 23694.75     52.28      20.98   721398.75     3.00    71.00   \n",
       "max      10.00 30308.00     54.41      22.63 15000000.00    10.00   442.20   \n",
       "\n",
       "          year  \n",
       "count 17874.00  \n",
       "mean   2016.08  \n",
       "std       8.39  \n",
       "min    1985.00  \n",
       "25%    2014.00  \n",
       "50%    2020.00  \n",
       "75%    2021.00  \n",
       "max    2024.00  "
      ]
     },
     "execution_count": 370,
     "metadata": {},
     "output_type": "execute_result"
    }
   ],
   "source": [
    "df01.describe()"
   ]
  },
  {
   "cell_type": "markdown",
   "id": "964020ee",
   "metadata": {},
   "source": [
    "# After getting rid of outliers"
   ]
  },
  {
   "cell_type": "code",
   "execution_count": 382,
   "id": "0fe509c2",
   "metadata": {},
   "outputs": [],
   "source": [
    "# df01 = df[(df['year']<=2025) & (df['year']>=1985)]\n",
    "# df01 = df01[df['sq']<=8000]"
   ]
  },
  {
   "cell_type": "code",
   "execution_count": 371,
   "id": "3c7d16a0",
   "metadata": {},
   "outputs": [
    {
     "data": {
      "text/html": [
       "<div>\n",
       "<style scoped>\n",
       "    .dataframe tbody tr th:only-of-type {\n",
       "        vertical-align: middle;\n",
       "    }\n",
       "\n",
       "    .dataframe tbody tr th {\n",
       "        vertical-align: top;\n",
       "    }\n",
       "\n",
       "    .dataframe thead th {\n",
       "        text-align: right;\n",
       "    }\n",
       "</style>\n",
       "<table border=\"1\" class=\"dataframe\">\n",
       "  <thead>\n",
       "    <tr style=\"text-align: right;\">\n",
       "      <th></th>\n",
       "      <th>city</th>\n",
       "      <th>floor</th>\n",
       "      <th>rooms</th>\n",
       "      <th>sq</th>\n",
       "      <th>year</th>\n",
       "    </tr>\n",
       "  </thead>\n",
       "  <tbody>\n",
       "    <tr>\n",
       "      <th>0</th>\n",
       "      <td>Krakow</td>\n",
       "      <td>2.00</td>\n",
       "      <td>3.00</td>\n",
       "      <td>74.05</td>\n",
       "      <td>2021.00</td>\n",
       "    </tr>\n",
       "    <tr>\n",
       "      <th>1</th>\n",
       "      <td>Warszawa</td>\n",
       "      <td>3.00</td>\n",
       "      <td>1.00</td>\n",
       "      <td>24.38</td>\n",
       "      <td>2021.00</td>\n",
       "    </tr>\n",
       "    <tr>\n",
       "      <th>4</th>\n",
       "      <td>Warszawa</td>\n",
       "      <td>1.00</td>\n",
       "      <td>5.00</td>\n",
       "      <td>105.00</td>\n",
       "      <td>2020.00</td>\n",
       "    </tr>\n",
       "    <tr>\n",
       "      <th>5</th>\n",
       "      <td>Krakow</td>\n",
       "      <td>2.00</td>\n",
       "      <td>1.00</td>\n",
       "      <td>34.55</td>\n",
       "      <td>2022.00</td>\n",
       "    </tr>\n",
       "    <tr>\n",
       "      <th>6</th>\n",
       "      <td>Krakow</td>\n",
       "      <td>0.00</td>\n",
       "      <td>4.00</td>\n",
       "      <td>81.40</td>\n",
       "      <td>2021.00</td>\n",
       "    </tr>\n",
       "  </tbody>\n",
       "</table>\n",
       "</div>"
      ],
      "text/plain": [
       "       city  floor  rooms     sq    year\n",
       "0    Krakow   2.00   3.00  74.05 2021.00\n",
       "1  Warszawa   3.00   1.00  24.38 2021.00\n",
       "4  Warszawa   1.00   5.00 105.00 2020.00\n",
       "5    Krakow   2.00   1.00  34.55 2022.00\n",
       "6    Krakow   0.00   4.00  81.40 2021.00"
      ]
     },
     "execution_count": 371,
     "metadata": {},
     "output_type": "execute_result"
    }
   ],
   "source": [
    "y0 = df01['price']\n",
    "X0 = df01.drop(['id','address','price','full_address','latitude','longitude'],axis=1)\n",
    "X0.head()"
   ]
  },
  {
   "cell_type": "code",
   "execution_count": 372,
   "id": "ef422bf7",
   "metadata": {},
   "outputs": [
    {
     "data": {
      "text/html": [
       "<div>\n",
       "<style scoped>\n",
       "    .dataframe tbody tr th:only-of-type {\n",
       "        vertical-align: middle;\n",
       "    }\n",
       "\n",
       "    .dataframe tbody tr th {\n",
       "        vertical-align: top;\n",
       "    }\n",
       "\n",
       "    .dataframe thead th {\n",
       "        text-align: right;\n",
       "    }\n",
       "</style>\n",
       "<table border=\"1\" class=\"dataframe\">\n",
       "  <thead>\n",
       "    <tr style=\"text-align: right;\">\n",
       "      <th></th>\n",
       "      <th>floor</th>\n",
       "      <th>rooms</th>\n",
       "      <th>sq</th>\n",
       "      <th>year</th>\n",
       "      <th>city_Krakow</th>\n",
       "      <th>city_Poznan</th>\n",
       "      <th>city_Warszawa</th>\n",
       "    </tr>\n",
       "  </thead>\n",
       "  <tbody>\n",
       "    <tr>\n",
       "      <th>0</th>\n",
       "      <td>2.00</td>\n",
       "      <td>3.00</td>\n",
       "      <td>74.05</td>\n",
       "      <td>2021.00</td>\n",
       "      <td>1</td>\n",
       "      <td>0</td>\n",
       "      <td>0</td>\n",
       "    </tr>\n",
       "    <tr>\n",
       "      <th>1</th>\n",
       "      <td>3.00</td>\n",
       "      <td>1.00</td>\n",
       "      <td>24.38</td>\n",
       "      <td>2021.00</td>\n",
       "      <td>0</td>\n",
       "      <td>0</td>\n",
       "      <td>1</td>\n",
       "    </tr>\n",
       "    <tr>\n",
       "      <th>4</th>\n",
       "      <td>1.00</td>\n",
       "      <td>5.00</td>\n",
       "      <td>105.00</td>\n",
       "      <td>2020.00</td>\n",
       "      <td>0</td>\n",
       "      <td>0</td>\n",
       "      <td>1</td>\n",
       "    </tr>\n",
       "    <tr>\n",
       "      <th>5</th>\n",
       "      <td>2.00</td>\n",
       "      <td>1.00</td>\n",
       "      <td>34.55</td>\n",
       "      <td>2022.00</td>\n",
       "      <td>1</td>\n",
       "      <td>0</td>\n",
       "      <td>0</td>\n",
       "    </tr>\n",
       "    <tr>\n",
       "      <th>6</th>\n",
       "      <td>0.00</td>\n",
       "      <td>4.00</td>\n",
       "      <td>81.40</td>\n",
       "      <td>2021.00</td>\n",
       "      <td>1</td>\n",
       "      <td>0</td>\n",
       "      <td>0</td>\n",
       "    </tr>\n",
       "  </tbody>\n",
       "</table>\n",
       "</div>"
      ],
      "text/plain": [
       "   floor  rooms     sq    year  city_Krakow  city_Poznan  city_Warszawa\n",
       "0   2.00   3.00  74.05 2021.00            1            0              0\n",
       "1   3.00   1.00  24.38 2021.00            0            0              1\n",
       "4   1.00   5.00 105.00 2020.00            0            0              1\n",
       "5   2.00   1.00  34.55 2022.00            1            0              0\n",
       "6   0.00   4.00  81.40 2021.00            1            0              0"
      ]
     },
     "execution_count": 372,
     "metadata": {},
     "output_type": "execute_result"
    }
   ],
   "source": [
    "X0 = pd.get_dummies(X0)\n",
    "X0.head()"
   ]
  },
  {
   "cell_type": "code",
   "execution_count": 373,
   "id": "93f48435",
   "metadata": {},
   "outputs": [],
   "source": [
    "X_train0, X_test0, y_train0, y_test0 = train_test_split(X0, y0, test_size=0.3, random_state=42)"
   ]
  },
  {
   "cell_type": "code",
   "execution_count": 374,
   "id": "8c3b0097",
   "metadata": {},
   "outputs": [],
   "source": [
    "scaler = StandardScaler()\n",
    "X_train0 = scaler.fit_transform(X_train0)\n",
    "X_test0 = scaler.transform(X_test0)"
   ]
  },
  {
   "cell_type": "code",
   "execution_count": 375,
   "id": "93d565b3",
   "metadata": {},
   "outputs": [],
   "source": [
    "nm = Sequential()\n",
    "nm.add(Dense(units=50, activation='relu'))\n",
    "nm.add(Dropout(0.15))\n",
    "nm.add(Dense(units=30, activation='relu'))\n",
    "nm.add(Dropout(0.15))\n",
    "nm.add(Dense(units=30, activation='relu'))\n",
    "nm.add(Dense(units=1, activation='relu'))"
   ]
  },
  {
   "cell_type": "code",
   "execution_count": 376,
   "id": "fe477fe4",
   "metadata": {},
   "outputs": [],
   "source": [
    "es = EarlyStopping(monitor='val_loss',patience=50)\n",
    "nm.compile(loss='mse',optimizer='adam')"
   ]
  },
  {
   "cell_type": "code",
   "execution_count": 377,
   "id": "8ca9f500",
   "metadata": {},
   "outputs": [
    {
     "name": "stdout",
     "output_type": "stream",
     "text": [
      "Epoch 1/500\n",
      "98/98 [==============================] - 1s 2ms/step - loss: 785969840128.0000 - val_loss: 726663036928.0000\n",
      "Epoch 2/500\n",
      "98/98 [==============================] - 0s 1ms/step - loss: 785229938688.0000 - val_loss: 724483178496.0000\n",
      "Epoch 3/500\n",
      "98/98 [==============================] - 0s 1ms/step - loss: 778668015616.0000 - val_loss: 711547289600.0000\n",
      "Epoch 4/500\n",
      "98/98 [==============================] - 0s 2ms/step - loss: 754467143680.0000 - val_loss: 673468841984.0000\n",
      "Epoch 5/500\n",
      "98/98 [==============================] - 0s 1ms/step - loss: 697043255296.0000 - val_loss: 596213497856.0000\n",
      "Epoch 6/500\n",
      "98/98 [==============================] - 0s 1ms/step - loss: 598311632896.0000 - val_loss: 478106025984.0000\n",
      "Epoch 7/500\n",
      "98/98 [==============================] - 0s 1ms/step - loss: 463770419200.0000 - val_loss: 343821647872.0000\n",
      "Epoch 8/500\n",
      "98/98 [==============================] - 0s 1ms/step - loss: 337322377216.0000 - val_loss: 236754173952.0000\n",
      "Epoch 9/500\n",
      "98/98 [==============================] - 0s 1ms/step - loss: 250384564224.0000 - val_loss: 176973611008.0000\n",
      "Epoch 10/500\n",
      "98/98 [==============================] - 0s 1ms/step - loss: 210241404928.0000 - val_loss: 149958590464.0000\n",
      "Epoch 11/500\n",
      "98/98 [==============================] - 0s 1ms/step - loss: 191509577728.0000 - val_loss: 137980182528.0000\n",
      "Epoch 12/500\n",
      "98/98 [==============================] - 0s 1ms/step - loss: 180702347264.0000 - val_loss: 131528916992.0000\n",
      "Epoch 13/500\n",
      "98/98 [==============================] - 0s 1ms/step - loss: 173233553408.0000 - val_loss: 127543631872.0000\n",
      "Epoch 14/500\n",
      "98/98 [==============================] - 0s 1ms/step - loss: 173629800448.0000 - val_loss: 124694577152.0000\n",
      "Epoch 15/500\n",
      "98/98 [==============================] - 0s 2ms/step - loss: 171229364224.0000 - val_loss: 122268819456.0000\n",
      "Epoch 16/500\n",
      "98/98 [==============================] - 0s 1ms/step - loss: 168727396352.0000 - val_loss: 120179490816.0000\n",
      "Epoch 17/500\n",
      "98/98 [==============================] - 0s 1ms/step - loss: 163518824448.0000 - val_loss: 118281945088.0000\n",
      "Epoch 18/500\n",
      "98/98 [==============================] - 0s 1ms/step - loss: 166895206400.0000 - val_loss: 116454924288.0000\n",
      "Epoch 19/500\n",
      "98/98 [==============================] - 0s 1ms/step - loss: 160137379840.0000 - val_loss: 114921799680.0000\n",
      "Epoch 20/500\n",
      "98/98 [==============================] - 0s 1ms/step - loss: 162625896448.0000 - val_loss: 113399480320.0000\n",
      "Epoch 21/500\n",
      "98/98 [==============================] - 0s 1ms/step - loss: 159534956544.0000 - val_loss: 111812952064.0000\n",
      "Epoch 22/500\n",
      "98/98 [==============================] - 0s 1ms/step - loss: 157995302912.0000 - val_loss: 110344978432.0000\n",
      "Epoch 23/500\n",
      "98/98 [==============================] - 0s 1ms/step - loss: 151089528832.0000 - val_loss: 109136994304.0000\n",
      "Epoch 24/500\n",
      "98/98 [==============================] - 0s 1ms/step - loss: 153376161792.0000 - val_loss: 107928158208.0000\n",
      "Epoch 25/500\n",
      "98/98 [==============================] - 0s 1ms/step - loss: 152583127040.0000 - val_loss: 106635370496.0000\n",
      "Epoch 26/500\n",
      "98/98 [==============================] - 0s 1ms/step - loss: 151188881408.0000 - val_loss: 105473974272.0000\n",
      "Epoch 27/500\n",
      "98/98 [==============================] - 0s 1ms/step - loss: 150145728512.0000 - val_loss: 104243560448.0000\n",
      "Epoch 28/500\n",
      "98/98 [==============================] - 0s 1ms/step - loss: 146179670016.0000 - val_loss: 103424106496.0000\n",
      "Epoch 29/500\n",
      "98/98 [==============================] - 0s 1ms/step - loss: 146059444224.0000 - val_loss: 102291636224.0000\n",
      "Epoch 30/500\n",
      "98/98 [==============================] - 0s 2ms/step - loss: 146770296832.0000 - val_loss: 101550956544.0000\n",
      "Epoch 31/500\n",
      "98/98 [==============================] - 0s 1ms/step - loss: 144233365504.0000 - val_loss: 100348690432.0000\n",
      "Epoch 32/500\n",
      "98/98 [==============================] - 0s 1ms/step - loss: 145236459520.0000 - val_loss: 99536461824.0000\n",
      "Epoch 33/500\n",
      "98/98 [==============================] - 0s 1ms/step - loss: 142981611520.0000 - val_loss: 98798723072.0000\n",
      "Epoch 34/500\n",
      "98/98 [==============================] - 0s 1ms/step - loss: 141953089536.0000 - val_loss: 97893376000.0000\n",
      "Epoch 35/500\n",
      "98/98 [==============================] - 0s 1ms/step - loss: 143656960000.0000 - val_loss: 97210368000.0000\n",
      "Epoch 36/500\n",
      "98/98 [==============================] - 0s 1ms/step - loss: 143392555008.0000 - val_loss: 96523452416.0000\n",
      "Epoch 37/500\n",
      "98/98 [==============================] - 0s 1ms/step - loss: 141559447552.0000 - val_loss: 95910715392.0000\n",
      "Epoch 38/500\n",
      "98/98 [==============================] - 0s 1ms/step - loss: 138652565504.0000 - val_loss: 95372304384.0000\n",
      "Epoch 39/500\n",
      "98/98 [==============================] - 0s 1ms/step - loss: 137351970816.0000 - val_loss: 94844878848.0000\n",
      "Epoch 40/500\n",
      "98/98 [==============================] - 0s 1ms/step - loss: 135947403264.0000 - val_loss: 94171955200.0000\n",
      "Epoch 41/500\n",
      "98/98 [==============================] - 0s 1ms/step - loss: 140148604928.0000 - val_loss: 93844635648.0000\n",
      "Epoch 42/500\n",
      "98/98 [==============================] - 0s 1ms/step - loss: 133195898880.0000 - val_loss: 93265125376.0000\n",
      "Epoch 43/500\n",
      "98/98 [==============================] - 0s 1ms/step - loss: 136671322112.0000 - val_loss: 92772319232.0000\n",
      "Epoch 44/500\n",
      "98/98 [==============================] - 0s 1ms/step - loss: 132318584832.0000 - val_loss: 92370714624.0000\n",
      "Epoch 45/500\n",
      "98/98 [==============================] - 0s 1ms/step - loss: 136240898048.0000 - val_loss: 91924283392.0000\n",
      "Epoch 46/500\n",
      "98/98 [==============================] - 0s 1ms/step - loss: 134881615872.0000 - val_loss: 91620392960.0000\n",
      "Epoch 47/500\n",
      "98/98 [==============================] - 0s 1ms/step - loss: 133784412160.0000 - val_loss: 91374239744.0000\n",
      "Epoch 48/500\n",
      "98/98 [==============================] - 0s 1ms/step - loss: 132868997120.0000 - val_loss: 91019747328.0000\n",
      "Epoch 49/500\n",
      "98/98 [==============================] - 0s 1ms/step - loss: 134823141376.0000 - val_loss: 90823516160.0000\n",
      "Epoch 50/500\n",
      "98/98 [==============================] - 0s 1ms/step - loss: 129364811776.0000 - val_loss: 90469015552.0000\n",
      "Epoch 51/500\n",
      "98/98 [==============================] - 0s 1ms/step - loss: 133483749376.0000 - val_loss: 90133921792.0000\n",
      "Epoch 52/500\n",
      "98/98 [==============================] - 0s 1ms/step - loss: 135258062848.0000 - val_loss: 89841934336.0000\n",
      "Epoch 53/500\n",
      "98/98 [==============================] - 0s 1ms/step - loss: 129600241664.0000 - val_loss: 89833799680.0000\n",
      "Epoch 54/500\n",
      "98/98 [==============================] - 0s 1ms/step - loss: 130004172800.0000 - val_loss: 89583607808.0000\n",
      "Epoch 55/500\n",
      "98/98 [==============================] - 0s 1ms/step - loss: 129405820928.0000 - val_loss: 89337151488.0000\n",
      "Epoch 56/500\n",
      "98/98 [==============================] - 0s 1ms/step - loss: 128679862272.0000 - val_loss: 89392939008.0000\n",
      "Epoch 57/500\n",
      "98/98 [==============================] - 0s 1ms/step - loss: 129891680256.0000 - val_loss: 89067945984.0000\n",
      "Epoch 58/500\n",
      "98/98 [==============================] - 0s 1ms/step - loss: 128931258368.0000 - val_loss: 88904056832.0000\n",
      "Epoch 59/500\n",
      "98/98 [==============================] - 0s 1ms/step - loss: 128996188160.0000 - val_loss: 88779735040.0000\n",
      "Epoch 60/500\n",
      "98/98 [==============================] - 0s 1ms/step - loss: 129058021376.0000 - val_loss: 88726593536.0000\n",
      "Epoch 61/500\n",
      "98/98 [==============================] - 0s 1ms/step - loss: 128048504832.0000 - val_loss: 88644255744.0000\n",
      "Epoch 62/500\n",
      "98/98 [==============================] - 0s 1ms/step - loss: 126661312512.0000 - val_loss: 88577728512.0000\n",
      "Epoch 63/500\n",
      "98/98 [==============================] - 0s 1ms/step - loss: 128298729472.0000 - val_loss: 88404656128.0000\n",
      "Epoch 64/500\n",
      "98/98 [==============================] - 0s 1ms/step - loss: 126930575360.0000 - val_loss: 88255275008.0000\n",
      "Epoch 65/500\n",
      "98/98 [==============================] - 0s 1ms/step - loss: 128424845312.0000 - val_loss: 88346615808.0000\n",
      "Epoch 66/500\n",
      "98/98 [==============================] - 0s 1ms/step - loss: 125218185216.0000 - val_loss: 88152432640.0000\n",
      "Epoch 67/500\n",
      "98/98 [==============================] - 0s 1ms/step - loss: 127930908672.0000 - val_loss: 88030085120.0000\n",
      "Epoch 68/500\n",
      "98/98 [==============================] - 0s 1ms/step - loss: 131428220928.0000 - val_loss: 88003084288.0000\n",
      "Epoch 69/500\n",
      "98/98 [==============================] - 0s 1ms/step - loss: 127118909440.0000 - val_loss: 87930191872.0000\n",
      "Epoch 70/500\n",
      "98/98 [==============================] - 0s 2ms/step - loss: 124609126400.0000 - val_loss: 87865016320.0000\n",
      "Epoch 71/500\n",
      "98/98 [==============================] - 0s 1ms/step - loss: 127494758400.0000 - val_loss: 87845937152.0000\n",
      "Epoch 72/500\n",
      "98/98 [==============================] - 0s 1ms/step - loss: 126969208832.0000 - val_loss: 87702028288.0000\n",
      "Epoch 73/500\n",
      "98/98 [==============================] - 0s 1ms/step - loss: 126530756608.0000 - val_loss: 87754760192.0000\n",
      "Epoch 74/500\n",
      "98/98 [==============================] - 0s 1ms/step - loss: 127141658624.0000 - val_loss: 87669891072.0000\n",
      "Epoch 75/500\n",
      "98/98 [==============================] - 0s 1ms/step - loss: 126037385216.0000 - val_loss: 87655809024.0000\n",
      "Epoch 76/500\n",
      "98/98 [==============================] - 0s 1ms/step - loss: 127282765824.0000 - val_loss: 87474675712.0000\n",
      "Epoch 77/500\n",
      "98/98 [==============================] - 0s 1ms/step - loss: 123889418240.0000 - val_loss: 87605698560.0000\n",
      "Epoch 78/500\n",
      "98/98 [==============================] - 0s 1ms/step - loss: 125118201856.0000 - val_loss: 87494238208.0000\n",
      "Epoch 79/500\n",
      "98/98 [==============================] - 0s 1ms/step - loss: 124964306944.0000 - val_loss: 87570284544.0000\n",
      "Epoch 80/500\n",
      "98/98 [==============================] - 0s 1ms/step - loss: 122552426496.0000 - val_loss: 87623081984.0000\n",
      "Epoch 81/500\n",
      "98/98 [==============================] - 0s 1ms/step - loss: 125425696768.0000 - val_loss: 87522312192.0000\n",
      "Epoch 82/500\n",
      "98/98 [==============================] - 0s 1ms/step - loss: 126588174336.0000 - val_loss: 87530307584.0000\n",
      "Epoch 83/500\n",
      "98/98 [==============================] - 0s 1ms/step - loss: 121876422656.0000 - val_loss: 87377788928.0000\n",
      "Epoch 84/500\n",
      "98/98 [==============================] - 0s 1ms/step - loss: 126144315392.0000 - val_loss: 87460945920.0000\n",
      "Epoch 85/500\n",
      "98/98 [==============================] - 0s 1ms/step - loss: 126159601664.0000 - val_loss: 87372177408.0000\n",
      "Epoch 86/500\n",
      "98/98 [==============================] - 0s 1ms/step - loss: 122672234496.0000 - val_loss: 87289020416.0000\n",
      "Epoch 87/500\n",
      "98/98 [==============================] - 0s 1ms/step - loss: 121348038656.0000 - val_loss: 87373127680.0000\n",
      "Epoch 88/500\n",
      "98/98 [==============================] - 0s 1ms/step - loss: 128613580800.0000 - val_loss: 87292248064.0000\n",
      "Epoch 89/500\n",
      "98/98 [==============================] - 0s 1ms/step - loss: 124754485248.0000 - val_loss: 87182581760.0000\n",
      "Epoch 90/500\n",
      "98/98 [==============================] - 0s 1ms/step - loss: 126507704320.0000 - val_loss: 87157661696.0000\n",
      "Epoch 91/500\n",
      "98/98 [==============================] - 0s 1ms/step - loss: 121528721408.0000 - val_loss: 87064682496.0000\n",
      "Epoch 92/500\n",
      "98/98 [==============================] - 0s 1ms/step - loss: 123354169344.0000 - val_loss: 87140302848.0000\n",
      "Epoch 93/500\n",
      "98/98 [==============================] - 0s 1ms/step - loss: 125396312064.0000 - val_loss: 87135813632.0000\n",
      "Epoch 94/500\n",
      "98/98 [==============================] - 0s 2ms/step - loss: 125923876864.0000 - val_loss: 87174053888.0000\n",
      "Epoch 95/500\n",
      "98/98 [==============================] - 0s 1ms/step - loss: 126932951040.0000 - val_loss: 87049101312.0000\n",
      "Epoch 96/500\n",
      "98/98 [==============================] - 0s 1ms/step - loss: 119055081472.0000 - val_loss: 87361691648.0000\n",
      "Epoch 97/500\n",
      "98/98 [==============================] - 0s 1ms/step - loss: 122739253248.0000 - val_loss: 87129399296.0000\n",
      "Epoch 98/500\n",
      "98/98 [==============================] - 0s 1ms/step - loss: 121657950208.0000 - val_loss: 87144292352.0000\n",
      "Epoch 99/500\n",
      "98/98 [==============================] - 0s 1ms/step - loss: 119965360128.0000 - val_loss: 87185965056.0000\n",
      "Epoch 100/500\n",
      "98/98 [==============================] - 0s 1ms/step - loss: 123366563840.0000 - val_loss: 86933356544.0000\n",
      "Epoch 101/500\n",
      "98/98 [==============================] - 0s 1ms/step - loss: 122027032576.0000 - val_loss: 86881943552.0000\n",
      "Epoch 102/500\n",
      "98/98 [==============================] - 0s 1ms/step - loss: 120170921984.0000 - val_loss: 86898368512.0000\n",
      "Epoch 103/500\n",
      "98/98 [==============================] - 0s 1ms/step - loss: 123667693568.0000 - val_loss: 86914891776.0000\n",
      "Epoch 104/500\n",
      "98/98 [==============================] - 0s 1ms/step - loss: 124782518272.0000 - val_loss: 87121518592.0000\n",
      "Epoch 105/500\n",
      "98/98 [==============================] - 0s 1ms/step - loss: 123881496576.0000 - val_loss: 87366434816.0000\n",
      "Epoch 106/500\n",
      "98/98 [==============================] - 0s 1ms/step - loss: 123487830016.0000 - val_loss: 87033987072.0000\n",
      "Epoch 107/500\n",
      "98/98 [==============================] - 0s 1ms/step - loss: 121883901952.0000 - val_loss: 86802685952.0000\n",
      "Epoch 108/500\n",
      "98/98 [==============================] - 0s 1ms/step - loss: 121959211008.0000 - val_loss: 86793543680.0000\n",
      "Epoch 109/500\n",
      "98/98 [==============================] - 0s 1ms/step - loss: 123490975744.0000 - val_loss: 86701539328.0000\n",
      "Epoch 110/500\n",
      "98/98 [==============================] - 0s 1ms/step - loss: 125389529088.0000 - val_loss: 86643556352.0000\n",
      "Epoch 111/500\n",
      "98/98 [==============================] - 0s 1ms/step - loss: 125182541824.0000 - val_loss: 86617849856.0000\n",
      "Epoch 112/500\n",
      "98/98 [==============================] - 0s 1ms/step - loss: 121713377280.0000 - val_loss: 86574284800.0000\n",
      "Epoch 113/500\n",
      "98/98 [==============================] - 0s 1ms/step - loss: 122853310464.0000 - val_loss: 86735388672.0000\n",
      "Epoch 114/500\n",
      "98/98 [==============================] - 0s 1ms/step - loss: 123954118656.0000 - val_loss: 86798450688.0000\n",
      "Epoch 115/500\n",
      "98/98 [==============================] - 0s 1ms/step - loss: 121853435904.0000 - val_loss: 86755680256.0000\n",
      "Epoch 116/500\n",
      "98/98 [==============================] - 0s 1ms/step - loss: 124612444160.0000 - val_loss: 86654697472.0000\n",
      "Epoch 117/500\n",
      "98/98 [==============================] - 0s 1ms/step - loss: 121643261952.0000 - val_loss: 86533865472.0000\n",
      "Epoch 118/500\n",
      "98/98 [==============================] - 0s 1ms/step - loss: 123843706880.0000 - val_loss: 86678634496.0000\n",
      "Epoch 119/500\n",
      "98/98 [==============================] - 0s 1ms/step - loss: 121331793920.0000 - val_loss: 86512230400.0000\n",
      "Epoch 120/500\n",
      "98/98 [==============================] - 0s 1ms/step - loss: 120605401088.0000 - val_loss: 86632939520.0000\n",
      "Epoch 121/500\n",
      "98/98 [==============================] - 0s 2ms/step - loss: 121092915200.0000 - val_loss: 86625558528.0000\n",
      "Epoch 122/500\n",
      "98/98 [==============================] - 0s 1ms/step - loss: 121853935616.0000 - val_loss: 86690521088.0000\n",
      "Epoch 123/500\n",
      "98/98 [==============================] - 0s 1ms/step - loss: 121037766656.0000 - val_loss: 86621675520.0000\n",
      "Epoch 124/500\n",
      "98/98 [==============================] - 0s 1ms/step - loss: 120932368384.0000 - val_loss: 86539567104.0000\n",
      "Epoch 125/500\n",
      "98/98 [==============================] - 0s 1ms/step - loss: 123383169024.0000 - val_loss: 86350036992.0000\n",
      "Epoch 126/500\n",
      "98/98 [==============================] - 0s 1ms/step - loss: 122589331456.0000 - val_loss: 86390497280.0000\n",
      "Epoch 127/500\n",
      "98/98 [==============================] - 0s 1ms/step - loss: 125136535552.0000 - val_loss: 86339928064.0000\n",
      "Epoch 128/500\n",
      "98/98 [==============================] - 0s 1ms/step - loss: 122565533696.0000 - val_loss: 86565036032.0000\n",
      "Epoch 129/500\n",
      "98/98 [==============================] - 0s 1ms/step - loss: 124887187456.0000 - val_loss: 86269509632.0000\n",
      "Epoch 130/500\n",
      "98/98 [==============================] - 0s 1ms/step - loss: 122616356864.0000 - val_loss: 86300336128.0000\n",
      "Epoch 131/500\n",
      "98/98 [==============================] - 0s 1ms/step - loss: 123520360448.0000 - val_loss: 86203138048.0000\n",
      "Epoch 132/500\n",
      "98/98 [==============================] - 0s 1ms/step - loss: 122186883072.0000 - val_loss: 86298738688.0000\n",
      "Epoch 133/500\n",
      "98/98 [==============================] - 0s 1ms/step - loss: 119736631296.0000 - val_loss: 86396297216.0000\n",
      "Epoch 134/500\n",
      "98/98 [==============================] - 0s 1ms/step - loss: 125616881664.0000 - val_loss: 86295732224.0000\n",
      "Epoch 135/500\n",
      "98/98 [==============================] - 0s 1ms/step - loss: 119136411648.0000 - val_loss: 86325215232.0000\n",
      "Epoch 136/500\n",
      "98/98 [==============================] - 0s 1ms/step - loss: 121500925952.0000 - val_loss: 86318841856.0000\n",
      "Epoch 137/500\n",
      "98/98 [==============================] - 0s 1ms/step - loss: 120570462208.0000 - val_loss: 86354067456.0000\n",
      "Epoch 138/500\n",
      "98/98 [==============================] - 0s 1ms/step - loss: 121262120960.0000 - val_loss: 86131269632.0000\n",
      "Epoch 139/500\n",
      "98/98 [==============================] - 0s 1ms/step - loss: 119277690880.0000 - val_loss: 86271500288.0000\n",
      "Epoch 140/500\n",
      "98/98 [==============================] - 0s 1ms/step - loss: 121640910848.0000 - val_loss: 86248488960.0000\n",
      "Epoch 141/500\n",
      "98/98 [==============================] - 0s 1ms/step - loss: 118538584064.0000 - val_loss: 86197174272.0000\n",
      "Epoch 142/500\n",
      "98/98 [==============================] - 0s 1ms/step - loss: 123275788288.0000 - val_loss: 86271385600.0000\n",
      "Epoch 143/500\n",
      "98/98 [==============================] - 0s 1ms/step - loss: 121862184960.0000 - val_loss: 86193815552.0000\n",
      "Epoch 144/500\n",
      "98/98 [==============================] - 0s 1ms/step - loss: 120313765888.0000 - val_loss: 86249127936.0000\n",
      "Epoch 145/500\n",
      "98/98 [==============================] - 0s 1ms/step - loss: 122316316672.0000 - val_loss: 86146842624.0000\n",
      "Epoch 146/500\n",
      "98/98 [==============================] - 0s 1ms/step - loss: 118790914048.0000 - val_loss: 86190940160.0000\n",
      "Epoch 147/500\n",
      "98/98 [==============================] - 0s 1ms/step - loss: 119302619136.0000 - val_loss: 86397591552.0000\n",
      "Epoch 148/500\n",
      "98/98 [==============================] - 0s 1ms/step - loss: 123272765440.0000 - val_loss: 86193618944.0000\n",
      "Epoch 149/500\n",
      "98/98 [==============================] - 0s 1ms/step - loss: 120758665216.0000 - val_loss: 86074097664.0000\n",
      "Epoch 150/500\n",
      "98/98 [==============================] - 0s 1ms/step - loss: 119747272704.0000 - val_loss: 86091423744.0000\n",
      "Epoch 151/500\n",
      "98/98 [==============================] - 0s 1ms/step - loss: 121180889088.0000 - val_loss: 85994553344.0000\n",
      "Epoch 152/500\n",
      "98/98 [==============================] - 0s 1ms/step - loss: 121017286656.0000 - val_loss: 86320717824.0000\n",
      "Epoch 153/500\n",
      "98/98 [==============================] - 0s 1ms/step - loss: 119571111936.0000 - val_loss: 86093848576.0000\n",
      "Epoch 154/500\n",
      "98/98 [==============================] - 0s 1ms/step - loss: 120453087232.0000 - val_loss: 86155345920.0000\n",
      "Epoch 155/500\n",
      "98/98 [==============================] - 0s 1ms/step - loss: 121003737088.0000 - val_loss: 86192775168.0000\n",
      "Epoch 156/500\n",
      "98/98 [==============================] - 0s 1ms/step - loss: 121206677504.0000 - val_loss: 86012551168.0000\n",
      "Epoch 157/500\n",
      "98/98 [==============================] - 0s 1ms/step - loss: 121714524160.0000 - val_loss: 86220972032.0000\n",
      "Epoch 158/500\n",
      "98/98 [==============================] - 0s 1ms/step - loss: 119840964608.0000 - val_loss: 86026338304.0000\n",
      "Epoch 159/500\n",
      "98/98 [==============================] - 0s 1ms/step - loss: 118865313792.0000 - val_loss: 86172008448.0000\n",
      "Epoch 160/500\n",
      "98/98 [==============================] - 0s 1ms/step - loss: 120800624640.0000 - val_loss: 86136545280.0000\n",
      "Epoch 161/500\n",
      "98/98 [==============================] - 0s 1ms/step - loss: 120639242240.0000 - val_loss: 86060392448.0000\n",
      "Epoch 162/500\n",
      "98/98 [==============================] - 0s 1ms/step - loss: 123640610816.0000 - val_loss: 86205218816.0000\n",
      "Epoch 163/500\n",
      "98/98 [==============================] - 0s 1ms/step - loss: 118939959296.0000 - val_loss: 86134734848.0000\n",
      "Epoch 164/500\n",
      "98/98 [==============================] - 0s 2ms/step - loss: 119737704448.0000 - val_loss: 85980028928.0000\n",
      "Epoch 165/500\n",
      "98/98 [==============================] - 0s 1ms/step - loss: 122507313152.0000 - val_loss: 85891268608.0000\n",
      "Epoch 166/500\n",
      "98/98 [==============================] - 0s 1ms/step - loss: 119724548096.0000 - val_loss: 86132760576.0000\n",
      "Epoch 167/500\n",
      "98/98 [==============================] - 0s 1ms/step - loss: 120336572416.0000 - val_loss: 86042599424.0000\n",
      "Epoch 168/500\n",
      "98/98 [==============================] - 0s 1ms/step - loss: 120026750976.0000 - val_loss: 86120202240.0000\n",
      "Epoch 169/500\n",
      "98/98 [==============================] - 0s 1ms/step - loss: 122203258880.0000 - val_loss: 85903015936.0000\n",
      "Epoch 170/500\n",
      "98/98 [==============================] - 0s 1ms/step - loss: 121005268992.0000 - val_loss: 85806546944.0000\n",
      "Epoch 171/500\n",
      "98/98 [==============================] - 0s 1ms/step - loss: 118132113408.0000 - val_loss: 86032244736.0000\n",
      "Epoch 172/500\n",
      "98/98 [==============================] - 0s 1ms/step - loss: 121870630912.0000 - val_loss: 85983772672.0000\n",
      "Epoch 173/500\n",
      "98/98 [==============================] - 0s 1ms/step - loss: 118962102272.0000 - val_loss: 85999435776.0000\n",
      "Epoch 174/500\n",
      "98/98 [==============================] - 0s 1ms/step - loss: 122943062016.0000 - val_loss: 85890801664.0000\n",
      "Epoch 175/500\n",
      "98/98 [==============================] - 0s 1ms/step - loss: 117166145536.0000 - val_loss: 86181666816.0000\n",
      "Epoch 176/500\n",
      "98/98 [==============================] - 0s 1ms/step - loss: 122167427072.0000 - val_loss: 86006300672.0000\n",
      "Epoch 177/500\n",
      "98/98 [==============================] - 0s 1ms/step - loss: 122332332032.0000 - val_loss: 85944344576.0000\n",
      "Epoch 178/500\n",
      "98/98 [==============================] - 0s 1ms/step - loss: 120600387584.0000 - val_loss: 86037553152.0000\n",
      "Epoch 179/500\n",
      "98/98 [==============================] - 0s 1ms/step - loss: 119831592960.0000 - val_loss: 86018842624.0000\n",
      "Epoch 180/500\n",
      "98/98 [==============================] - 0s 1ms/step - loss: 122750656512.0000 - val_loss: 85997912064.0000\n",
      "Epoch 181/500\n",
      "98/98 [==============================] - 0s 1ms/step - loss: 119698964480.0000 - val_loss: 86055460864.0000\n",
      "Epoch 182/500\n",
      "98/98 [==============================] - 0s 1ms/step - loss: 116708360192.0000 - val_loss: 85891915776.0000\n",
      "Epoch 183/500\n",
      "98/98 [==============================] - 0s 1ms/step - loss: 117150892032.0000 - val_loss: 85890637824.0000\n",
      "Epoch 184/500\n",
      "98/98 [==============================] - 0s 1ms/step - loss: 116007895040.0000 - val_loss: 86259556352.0000\n",
      "Epoch 185/500\n",
      "98/98 [==============================] - 0s 1ms/step - loss: 121150676992.0000 - val_loss: 85951979520.0000\n",
      "Epoch 186/500\n",
      "98/98 [==============================] - 0s 2ms/step - loss: 119957200896.0000 - val_loss: 86062571520.0000\n",
      "Epoch 187/500\n",
      "98/98 [==============================] - 0s 2ms/step - loss: 120094048256.0000 - val_loss: 85862309888.0000\n",
      "Epoch 188/500\n",
      "98/98 [==============================] - 0s 1ms/step - loss: 117904293888.0000 - val_loss: 85884346368.0000\n",
      "Epoch 189/500\n",
      "98/98 [==============================] - 0s 1ms/step - loss: 122686889984.0000 - val_loss: 85852798976.0000\n",
      "Epoch 190/500\n",
      "98/98 [==============================] - 0s 1ms/step - loss: 120065490944.0000 - val_loss: 86021128192.0000\n",
      "Epoch 191/500\n",
      "98/98 [==============================] - 0s 1ms/step - loss: 118574243840.0000 - val_loss: 86196838400.0000\n",
      "Epoch 192/500\n",
      "98/98 [==============================] - 0s 1ms/step - loss: 118590046208.0000 - val_loss: 85979021312.0000\n",
      "Epoch 193/500\n",
      "98/98 [==============================] - 0s 1ms/step - loss: 117548007424.0000 - val_loss: 86199025664.0000\n",
      "Epoch 194/500\n",
      "98/98 [==============================] - 0s 1ms/step - loss: 122425999360.0000 - val_loss: 85963882496.0000\n",
      "Epoch 195/500\n",
      "98/98 [==============================] - 0s 1ms/step - loss: 116023590912.0000 - val_loss: 86016106496.0000\n",
      "Epoch 196/500\n",
      "98/98 [==============================] - 0s 1ms/step - loss: 117506031616.0000 - val_loss: 86083526656.0000\n",
      "Epoch 197/500\n",
      "98/98 [==============================] - 0s 1ms/step - loss: 122615676928.0000 - val_loss: 86214934528.0000\n",
      "Epoch 198/500\n",
      "98/98 [==============================] - 0s 1ms/step - loss: 116395810816.0000 - val_loss: 86303064064.0000\n",
      "Epoch 199/500\n",
      "98/98 [==============================] - 0s 1ms/step - loss: 118628827136.0000 - val_loss: 86211125248.0000\n",
      "Epoch 200/500\n",
      "98/98 [==============================] - 0s 1ms/step - loss: 115051790336.0000 - val_loss: 86005833728.0000\n",
      "Epoch 201/500\n",
      "98/98 [==============================] - 0s 1ms/step - loss: 121164357632.0000 - val_loss: 86194520064.0000\n",
      "Epoch 202/500\n",
      "98/98 [==============================] - 0s 1ms/step - loss: 118770417664.0000 - val_loss: 86054395904.0000\n",
      "Epoch 203/500\n",
      "98/98 [==============================] - 0s 1ms/step - loss: 119157276672.0000 - val_loss: 86208323584.0000\n",
      "Epoch 204/500\n",
      "98/98 [==============================] - 0s 1ms/step - loss: 118049660928.0000 - val_loss: 86081470464.0000\n",
      "Epoch 205/500\n",
      "98/98 [==============================] - 0s 1ms/step - loss: 117153734656.0000 - val_loss: 85956648960.0000\n",
      "Epoch 206/500\n",
      "98/98 [==============================] - 0s 1ms/step - loss: 119863468032.0000 - val_loss: 86004047872.0000\n",
      "Epoch 207/500\n",
      "98/98 [==============================] - 0s 1ms/step - loss: 119557537792.0000 - val_loss: 86207406080.0000\n",
      "Epoch 208/500\n",
      "98/98 [==============================] - 0s 1ms/step - loss: 117164081152.0000 - val_loss: 86114803712.0000\n",
      "Epoch 209/500\n",
      "98/98 [==============================] - 0s 1ms/step - loss: 119491108864.0000 - val_loss: 86195625984.0000\n",
      "Epoch 210/500\n",
      "98/98 [==============================] - 0s 2ms/step - loss: 116990205952.0000 - val_loss: 86337519616.0000\n",
      "Epoch 211/500\n",
      "98/98 [==============================] - 0s 1ms/step - loss: 118101762048.0000 - val_loss: 86355853312.0000\n",
      "Epoch 212/500\n",
      "98/98 [==============================] - 0s 1ms/step - loss: 122167164928.0000 - val_loss: 86183182336.0000\n",
      "Epoch 213/500\n",
      "98/98 [==============================] - 0s 1ms/step - loss: 117329846272.0000 - val_loss: 86199361536.0000\n",
      "Epoch 214/500\n",
      "98/98 [==============================] - 0s 1ms/step - loss: 120601780224.0000 - val_loss: 86397329408.0000\n",
      "Epoch 215/500\n",
      "98/98 [==============================] - 0s 1ms/step - loss: 116579991552.0000 - val_loss: 86218366976.0000\n",
      "Epoch 216/500\n",
      "98/98 [==============================] - 0s 1ms/step - loss: 120455438336.0000 - val_loss: 86244474880.0000\n",
      "Epoch 217/500\n",
      "98/98 [==============================] - 0s 1ms/step - loss: 119504232448.0000 - val_loss: 86074990592.0000\n",
      "Epoch 218/500\n",
      "98/98 [==============================] - 0s 1ms/step - loss: 117283119104.0000 - val_loss: 86167347200.0000\n",
      "Epoch 219/500\n",
      "98/98 [==============================] - 0s 1ms/step - loss: 120965873664.0000 - val_loss: 86166626304.0000\n",
      "Epoch 220/500\n",
      "98/98 [==============================] - 0s 1ms/step - loss: 121578389504.0000 - val_loss: 86290628608.0000\n"
     ]
    }
   ],
   "source": [
    "history = nm.fit(x=X_train0,y=y_train0.values,epochs=500,batch_size=128, callbacks=[es],validation_data=(X_test0,y_test0.values))\n"
   ]
  },
  {
   "cell_type": "code",
   "execution_count": 378,
   "id": "d448ca68",
   "metadata": {},
   "outputs": [
    {
     "data": {
      "text/plain": [
       "<AxesSubplot:>"
      ]
     },
     "execution_count": 378,
     "metadata": {},
     "output_type": "execute_result"
    },
    {
     "data": {
      "image/png": "[encoded data removed]",
      "text/plain": [
       "<Figure size 640x480 with 1 Axes>"
      ]
     },
     "metadata": {},
     "output_type": "display_data"
    }
   ],
   "source": [
    "model_loss = pd.DataFrame(history.history)\n",
    "model_loss.plot()"
   ]
  },
  {
   "cell_type": "code",
   "execution_count": 379,
   "id": "6ae4b8c1",
   "metadata": {},
   "outputs": [
    {
     "name": "stdout",
     "output_type": "stream",
     "text": [
      "168/168 [==============================] - 0s 479us/step\n"
     ]
    }
   ],
   "source": [
    "predictions = nm.predict(X_test0)"
   ]
  },
  {
   "cell_type": "code",
   "execution_count": 380,
   "id": "b9581a35",
   "metadata": {},
   "outputs": [
    {
     "data": {
      "text/plain": [
       "293752.6461455732"
      ]
     },
     "execution_count": 380,
     "metadata": {},
     "output_type": "execute_result"
    }
   ],
   "source": [
    "np.sqrt(mean_squared_error(y_test0,predictions))"
   ]
  },
  {
   "cell_type": "code",
   "execution_count": 381,
   "id": "e75d5ef6",
   "metadata": {},
   "outputs": [
    {
     "name": "stdout",
     "output_type": "stream",
     "text": [
      "0.7017895663534552\n"
     ]
    }
   ],
   "source": [
    "print(r2_score(y_test0, predictions))"
   ]
  },
  {
   "cell_type": "code",
   "execution_count": null,
   "id": "f71b2e97",
   "metadata": {},
   "outputs": [],
   "source": []
  }
 ],
 "metadata": {
  "kernelspec": {
   "display_name": "Python 3 (ipykernel)",
   "language": "python",
   "name": "python3"
  },
  "language_info": {
   "codemirror_mode": {
    "name": "ipython",
    "version": 3
   },
   "file_extension": ".py",
   "mimetype": "text/x-python",
   "name": "python",
   "nbconvert_exporter": "python",
   "pygments_lexer": "ipython3",
   "version": "3.9.13"
  }
 },
 "nbformat": 4,
 "nbformat_minor": 5
}
